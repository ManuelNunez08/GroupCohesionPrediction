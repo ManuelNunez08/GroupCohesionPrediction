{
 "cells": [
  {
   "cell_type": "code",
   "execution_count": 1,
   "metadata": {},
   "outputs": [],
   "source": [
    "import pandas as pd\n",
    "import pickle\n",
    "import torch\n",
    "import numpy as np\n",
    "from torch_geometric.data import Data, Dataset"
   ]
  },
  {
   "cell_type": "markdown",
   "metadata": {},
   "source": [
    "Below we implement a GNN meant for graph-level predicitons. The model performs a regressive task as it trys to predict the average scoring for different questions or groups of questions in the annotations questionare. The GNN employs a shallow message passing architecture to account for the inter connected nature of conversation and is enriched through the use of GATs (Graph Attention Networks) to incorporate edge features in classification. \n",
    "\n",
    "Ultimatley, the we can either choose a question or a category (task, social, or general cohesion) and accompany our choice by an agreeability parameter (standard deviation for questions or kappa score for categories) such that we restrict our training/testing group to averages (labels) that present a more robust ground truth. \n"
   ]
  },
  {
   "cell_type": "markdown",
   "metadata": {},
   "source": [
    "The function below takes in: \n",
    "- graph_data list: contains node and edge information for all meeting snippets and associates them with a meeting name and start time. \n",
    "- df: contains score averages for each question and associates them with meeting and start times. \n",
    "\n",
    "Result: the function finds all meeting snippets that occurr in both the df and graph data and only keeps those which abide by the standard deviation parameter. The result is used to build the model dataset. "
   ]
  },
  {
   "cell_type": "code",
   "execution_count": 2,
   "metadata": {},
   "outputs": [],
   "source": [
    "def filter_and_associate_data_question_basis(graph_data, df, question, max_std_dev=1.0):\n",
    "\n",
    "    filtered_df = df[df[f'{question}_std'] <= max_std_dev]\n",
    "    filtered_graph_data = []\n",
    "\n",
    "    # find corresponding row in the filtered DataFrame\n",
    "    for graph_entry in graph_data:\n",
    "        meeting = graph_entry['meeting']\n",
    "        start = graph_entry['start']\n",
    "\n",
    "        # Find the matching row\n",
    "        match = filtered_df[(filtered_df['Meeting'] == meeting) & (filtered_df['Start'] * 60 == start)]\n",
    "        if not match.empty:\n",
    "            average_score = match[f'{question}_mean'].values[0]\n",
    "            graph_entry['score'] = average_score\n",
    "            filtered_graph_data.append(graph_entry)\n",
    "\n",
    "    return filtered_graph_data\n"
   ]
  },
  {
   "cell_type": "markdown",
   "metadata": {},
   "source": [
    "The function below takes in: \n",
    "- graph_data list: contains node and edge information for all meeting snippets and associates them with a meeting name and start time. \n",
    "- df: contains score averages for each category and associates them with meeting and start times. \n",
    "\n",
    "Result: the function finds all meeting snippets that occurr in both the df and graph data and only keeps those which abide by the kappa parameter. The result is used to build the model dataset. "
   ]
  },
  {
   "cell_type": "code",
   "execution_count": 3,
   "metadata": {},
   "outputs": [],
   "source": [
    "\n",
    "def filter_and_associate_data_category_basis(graph_data, df_kappa, category, min_kappa=0.2):\n",
    "\n",
    "    kappa_column = f'{category}_Kappa'\n",
    "    average_column = f'{category}_Average'\n",
    "\n",
    "    # Filter based on the minimum Kappa score\n",
    "    filtered_df = df_kappa[df_kappa[kappa_column] >= min_kappa]\n",
    "    filtered_graph_data = []\n",
    "\n",
    "    for graph_entry in graph_data:\n",
    "        meeting = graph_entry['meeting']\n",
    "        start = graph_entry['start']\n",
    "\n",
    "        match = filtered_df[(filtered_df['Meeting'] == meeting) & (filtered_df['Start'] * 60 == start)]\n",
    "        \n",
    "        if not match.empty:\n",
    "            average_score = match[average_column].values[0]\n",
    "            \n",
    "            graph_entry['score'] = average_score\n",
    "            filtered_graph_data.append(graph_entry)\n",
    "\n",
    "    return filtered_graph_data\n"
   ]
  },
  {
   "cell_type": "markdown",
   "metadata": {},
   "source": [
    "Below we have the dataset used, which simply takes in the filtered data and defies required methods. "
   ]
  },
  {
   "cell_type": "code",
   "execution_count": 4,
   "metadata": {},
   "outputs": [],
   "source": [
    "class CohesionGraphDataset(Dataset):\n",
    "    def __init__(self, data_list):\n",
    "        super(CohesionGraphDataset, self).__init__()\n",
    "        self.data_list = []\n",
    "\n",
    "        for entry in data_list:\n",
    "            # Process node features\n",
    "            node_features_dict = entry['features'][0]\n",
    "            node_names = list(node_features_dict.keys())  \n",
    "            node_features = []\n",
    "\n",
    "            # convert features to a tensor\n",
    "            for node in node_names:\n",
    "                node_data = node_features_dict[node]\n",
    "                node_features.append([feature[1] for feature in node_data])  \n",
    "\n",
    "            x = torch.tensor(node_features, dtype=torch.float)\n",
    "\n",
    "            # Process edges\n",
    "            edge_features_dict = entry['features'][1]\n",
    "            edge_index = []\n",
    "            edge_attr = []\n",
    "\n",
    "            # Convert into tensors\n",
    "            for edge, edge_data in edge_features_dict.items():\n",
    "                src, dst = edge.split(',')\n",
    "                src_idx = node_names.index(src)  # Get the node index for source\n",
    "                dst_idx = node_names.index(dst)  # Get the node index for destination\n",
    "\n",
    "                # Append the edge index \n",
    "                edge_index.append([src_idx, dst_idx])\n",
    "\n",
    "                # Append the edge attributes (features for this edge)\n",
    "                edge_attr.append([feature[1] for feature in edge_data])\n",
    "\n",
    "            edge_index = torch.tensor(edge_index, dtype=torch.long).t().contiguous()  \n",
    "            edge_attr = torch.tensor(edge_attr, dtype=torch.float) \n",
    "\n",
    "            # Store the score as the y label\n",
    "            y = torch.tensor([entry['score']], dtype=torch.float)\n",
    "\n",
    "            # Create Geometric Data object\n",
    "            data = Data(x=x, edge_index=edge_index, edge_attr=edge_attr, y=y)\n",
    "            self.data_list.append(data)\n",
    "\n",
    "    def __len__(self):\n",
    "        return len(self.data_list)\n",
    "\n",
    "    def __getitem__(self, idx):\n",
    "        return self.data_list[idx]\n"
   ]
  },
  {
   "cell_type": "markdown",
   "metadata": {},
   "source": [
    "Below we have the GNN model. The following features stand out: \n",
    "\n",
    "1. Single Convolutional Layer: Convolutional Layers in GNNs are used to derive node embeddings based on a node's surroudning neighbors. The greater the number of layers, the more a node's embeddings are defined by nodes which lie further away. The size and edge density of a graoh should be considered when defining the number of layers, as too many layers for a small and densely connected graph can lead to oversmoothing, a situation where node embedings are homogenous. Given we have a small, fully interconnected graph, we chose a single layer. \n",
    "\n",
    "2. Drop Out Layer: Given our sample sizes are rather small, drop out layers are implemented to avoid overfitting\n",
    "\n",
    "3. GATConv: This mechanism incorporates edge features. I have not taken the time to understand its innerworking, but feel free to: \n",
    "https://pytorch-geometric.readthedocs.io/en/latest/generated/torch_geometric.nn.conv.GATConv.html\n",
    "\n",
    "4. Global Mean Pooling: Makes this a graoh-level implementation. Chosen rather arbitrarily. "
   ]
  },
  {
   "cell_type": "code",
   "execution_count": 5,
   "metadata": {},
   "outputs": [],
   "source": [
    "import torch\n",
    "import torch.nn as nn\n",
    "import torch.nn.functional as F\n",
    "from torch_geometric.nn import GATConv, global_mean_pool\n",
    "\n",
    "NUM_EDGE_FEATURES = 3\n",
    "NUM_NODE_FEATURES = 12\n",
    "\n",
    "class CohesionGNN(torch.nn.Module):\n",
    "    def __init__(self, num_features= NUM_NODE_FEATURES, hidden_size=32, target_size=1, dropout=0.5):\n",
    "        super(CohesionGNN, self).__init__()\n",
    "        self.hidden_size = hidden_size\n",
    "        self.num_features = num_features\n",
    "        self.target_size = target_size\n",
    "        self.dropout = dropout\n",
    "\n",
    "        self.conv1 = GATConv(self.num_features, self.hidden_size, edge_dim=NUM_EDGE_FEATURES)\n",
    "        \n",
    "        self.linear = nn.Linear(self.hidden_size, self.target_size)\n",
    "        \n",
    "    def forward(self, data):\n",
    "        x, edge_index, edge_attr, batch = data.x, data.edge_index, data.edge_attr, data.batch\n",
    "        \n",
    "        # Apply GAT convolution layer\n",
    "        x = self.conv1(x, edge_index, edge_attr=edge_attr)\n",
    "        x = F.relu(x)\n",
    "        x = F.dropout(x, p=self.dropout, training=self.training)\n",
    "        \n",
    "        # Global mean pooling: aggregates node embeddings \n",
    "        x = global_mean_pool(x, batch)  \n",
    "        \n",
    "        # Apply final linear layer for regression\n",
    "        x = self.linear(x)  \n",
    "        \n",
    "        return x \n"
   ]
  },
  {
   "cell_type": "markdown",
   "metadata": {},
   "source": [
    "Sinple function to make sure no nan values are present, as they break the model. "
   ]
  },
  {
   "cell_type": "code",
   "execution_count": 6,
   "metadata": {},
   "outputs": [],
   "source": [
    "def filter_out_nan_entries(dataset):\n",
    "    filtered_data_list = []\n",
    "    \n",
    "    for data in dataset:\n",
    "        if (torch.isnan(data.x).any() or\n",
    "            torch.isnan(data.edge_attr).any() or\n",
    "            torch.isnan(data.y).any()):\n",
    "            continue\n",
    "        else:\n",
    "            filtered_data_list.append(data)\n",
    "\n",
    "    return filtered_data_list"
   ]
  },
  {
   "cell_type": "markdown",
   "metadata": {},
   "source": [
    "Lets now load in the graph data as well as the two data frames we will be using to build datasets. "
   ]
  },
  {
   "cell_type": "code",
   "execution_count": 7,
   "metadata": {},
   "outputs": [],
   "source": [
    "import pickle\n",
    "import pandas as pd \n",
    "\n",
    "# Load the graphs data from file\n",
    "with open('/Users/manuelnunezmartinez/Documents/UF/Research Internship/code/GNNs/data/annotations_graphs_new.pkl', 'rb') as f:\n",
    "    graphs_cohesion_data = pickle.load(f)\n",
    "\n",
    "# Load question-level scores df \n",
    "question_level_df = pd.read_pickle(\"/Users/manuelnunezmartinez/Documents/UF/Research Internship/code/Cohesion_Annotations/Question_Split_data.pkl\")\n",
    "category_level_df = pd.read_pickle(\"/Users/manuelnunezmartinez/Documents/UF/Research Internship/code/Cohesion_Annotations/Cohesion_split_data.pkl\")"
   ]
  },
  {
   "cell_type": "markdown",
   "metadata": {},
   "source": [
    "load an example of each a questiion-level and category-level filtered data list. "
   ]
  },
  {
   "cell_type": "code",
   "execution_count": 8,
   "metadata": {},
   "outputs": [],
   "source": [
    "filtered_data_question = filter_and_associate_data_question_basis(graphs_cohesion_data, question_level_df, 'M3', 1.2)\n",
    "filtered_data_cat = filter_and_associate_data_category_basis(graphs_cohesion_data, category_level_df, 'Cohesion', 0.2)\n"
   ]
  },
  {
   "cell_type": "markdown",
   "metadata": {},
   "source": [
    "Lets now build the dataset"
   ]
  },
  {
   "cell_type": "code",
   "execution_count": 9,
   "metadata": {},
   "outputs": [
    {
     "name": "stdout",
     "output_type": "stream",
     "text": [
      "Size of training/validation set: 65\n",
      "Size of testing set: 16\n"
     ]
    },
    {
     "data": {
      "image/png": "[encoded data removed]",
      "text/plain": [
       "<Figure size 800x600 with 1 Axes>"
      ]
     },
     "metadata": {},
     "output_type": "display_data"
    }
   ],
   "source": [
    "from torch.utils.data import random_split\n",
    "import matplotlib.pyplot as plt\n",
    "\n",
    "# create dataset and split using stratified sampling\n",
    "dataset = CohesionGraphDataset(filtered_data_cat)\n",
    "\n",
    "# Assuming `dataset` is your full dataset (a list of Data objects)\n",
    "total_size = len(dataset)\n",
    "test_size = int(0.2 * total_size)  # 20% for testing\n",
    "train_val_size = total_size - test_size  # 80% for training and validation\n",
    "\n",
    "# Create a random split for training_val and test sets\n",
    "data_train_val, data_test = random_split(dataset, [train_val_size, test_size])\n",
    "\n",
    "# filter out NaN entries in your dataset\n",
    "data_train_val = filter_out_nan_entries(data_train_val)\n",
    "data_test = filter_out_nan_entries(data_test)\n",
    "\n",
    "print(f'Size of training/validation set: {len(data_train_val)}')\n",
    "print(f'Size of testing set: {len(data_test)}')\n",
    "\n",
    "# get labels \n",
    "train_val_targets = [data.y.item() for data in data_train_val]\n",
    "\n",
    "# plot distribution\n",
    "# Plot the distribution of the training data (y values)\n",
    "plt.figure(figsize=(8, 6))\n",
    "plt.hist(train_val_targets, bins=20, edgecolor='black', alpha=0.7)\n",
    "plt.title('Distribution of Training Data (Target Values)')\n",
    "plt.xlabel('Target Value (y)')\n",
    "plt.ylabel('Frequency')\n",
    "plt.grid(True)\n",
    "plt.show()"
   ]
  },
  {
   "cell_type": "markdown",
   "metadata": {},
   "source": [
    "To acount for dataset biases, which predomninantly tend towards high cohesion scores, we will employ the DenseWeight library to obtain weights for each observation which can then be utilized in the loss function to apply a greater penalty to gradients which favor high cohesion predictions. "
   ]
  },
  {
   "cell_type": "code",
   "execution_count": 10,
   "metadata": {},
   "outputs": [
    {
     "name": "stderr",
     "output_type": "stream",
     "text": [
      "/Users/manuelnunezmartinez/Documents/UF/Research Internship/code/transcriptionEnv/lib/python3.9/site-packages/threadpoolctl.py:1214: RuntimeWarning: \n",
      "Found Intel OpenMP ('libiomp') and LLVM OpenMP ('libomp') loaded at\n",
      "the same time. Both libraries are known to be incompatible and this\n",
      "can cause random crashes or deadlocks on Linux when loaded in the\n",
      "same Python program.\n",
      "Using threadpoolctl may cause crashes or deadlocks. For more\n",
      "information and possible workarounds, please see\n",
      "    https://github.com/joblib/threadpoolctl/blob/master/multiple_openmp.md\n",
      "\n",
      "  warnings.warn(msg, RuntimeWarning)\n"
     ]
    }
   ],
   "source": [
    "from denseweight import DenseWeight\n",
    "\n",
    "# # Lets add a weight to each observation in the training data \n",
    "# dw = DenseWeight(alpha=0.5)\n",
    "# train_val_weights = dw.fit(train_val_targets)\n",
    "\n",
    "# for i, data in enumerate(data_train_val):\n",
    "#     data.weight = torch.tensor([train_val_weights[i]], dtype=torch.float)\n"
   ]
  },
  {
   "cell_type": "code",
   "execution_count": 37,
   "metadata": {},
   "outputs": [],
   "source": [
    "def calculate_bin_statistics(weights, targets, num_bins=4):\n",
    "    \"\"\"\n",
    "    Calculate the product N_i * N_w for each bin and return the standard deviation.\n",
    "    \"\"\"\n",
    "    \n",
    "    # Adjust the bin edges to ensure a more even distribution\n",
    "    bin_edges = np.linspace(min(targets), max(targets), num_bins + 1)\n",
    "    # Use np.digitize to assign each target to a bin\n",
    "    bin_indices = np.digitize(targets, bin_edges, right=True)\n",
    "    \n",
    "    # Merge the first two bins together\n",
    "    bin_indices[bin_indices == 0] = 1\n",
    "    \n",
    "    bin_stats = []\n",
    "    for i in range(0, num_bins + 1):\n",
    "        bin_mask = bin_indices == i\n",
    "        N_i = np.sum(bin_mask)  # Number of observations in the bin\n",
    "        N_w = np.sum(weights[bin_mask])  # Sum of weights in the bin\n",
    "        \n",
    "        if N_i > 0 and N_w > 0:\n",
    "            bin_stats.append(N_i * N_w)\n",
    "\n",
    "    # Return the standard deviation of Ni * Nw across bins\n",
    "    return np.std(bin_stats) if bin_stats else float('inf')\n",
    "\n",
    "\n",
    "def find_optimal_alpha(train_val_targets, data_train_val, alpha_range=(0, 2), num_bins=4):\n",
    "    \"\"\"\n",
    "    Perform a search over the range of alpha values and minimize the standard deviation of Ni * Nw across bins.\n",
    "    \"\"\"\n",
    "    alphas = np.linspace(alpha_range[0], alpha_range[1], 50)  \n",
    "    best_alpha = None\n",
    "    best_std = float('inf')\n",
    "\n",
    "    alpha_vs_std = []\n",
    "    \n",
    "    for alpha in alphas:\n",
    "        # Fit the DenseWeight model with the current alpha\n",
    "        dw = DenseWeight(alpha=alpha)\n",
    "        train_val_weights = dw.fit(train_val_targets)\n",
    "        \n",
    "        # Assign the weights to each data point\n",
    "        for i, data in enumerate(data_train_val):\n",
    "            data.weight = torch.tensor([train_val_weights[i]], dtype=torch.float)\n",
    "        \n",
    "        # Calculate the standard deviation of Ni * Nw across bins\n",
    "        std_deviation = calculate_bin_statistics(train_val_weights, train_val_targets, num_bins=num_bins)\n",
    "        alpha_vs_std.append((alpha, std_deviation))\n",
    "\n",
    "        if std_deviation < best_std:\n",
    "            best_std = std_deviation\n",
    "            best_alpha = alpha\n",
    "\n",
    "    # Extract the alpha values and standard deviations for plotting\n",
    "    alphas, std_devs = zip(*alpha_vs_std)\n",
    "    \n",
    "    # Plot alpha vs standard deviation\n",
    "    plt.figure(figsize=(8, 5))\n",
    "    plt.plot(alphas, std_devs, marker='o', linestyle='-', color='b', label='Std Dev of Ni * Nw')\n",
    "    plt.xlabel('Alpha')\n",
    "    plt.ylabel('Standard Deviation of Ni * Nw')\n",
    "    plt.title('Alpha vs Standard Deviation of Ni * Nw')\n",
    "    plt.legend()\n",
    "    plt.grid(True)\n",
    "    plt.show()\n",
    "    \n",
    "    print(f\"Best alpha: {best_alpha} with minimum std of Ni * Nw: {best_std}\")\n",
    "    return best_alpha"
   ]
  },
  {
   "cell_type": "code",
   "execution_count": 42,
   "metadata": {},
   "outputs": [
    {
     "data": {
      "image/png": "[encoded data removed]",
      "text/plain": [
       "<Figure size 800x500 with 1 Axes>"
      ]
     },
     "metadata": {},
     "output_type": "display_data"
    },
    {
     "name": "stdout",
     "output_type": "stream",
     "text": [
      "Best alpha: 0.9387755102040816 with minimum std of Ni * Nw: 6.514555939793809\n"
     ]
    }
   ],
   "source": [
    "alpha = find_optimal_alpha(train_val_targets, data_train_val,  num_bins=2)"
   ]
  },
  {
   "cell_type": "markdown",
   "metadata": {},
   "source": [
    "We now move onto model training\n",
    "\n",
    "Below we have the hyperparameters used. I've opted for a small batch size given I have a small dataset and I am betting on a a greater number of small subgroups to best train the model, given the data size limit. I have found that 0.01 is generally the best learning rate. "
   ]
  },
  {
   "cell_type": "code",
   "execution_count": 87,
   "metadata": {},
   "outputs": [],
   "source": [
    "hyperparams = {\n",
    "    'batch_size' : 4, \n",
    "    'save_loss_interval' : 10, \n",
    "    'print_interval' : 50,\n",
    "    'n_epochs' : 250, \n",
    "    'learning_rate' : 0.005\n",
    "}"
   ]
  },
  {
   "cell_type": "markdown",
   "metadata": {},
   "source": [
    "The following evaluation function is used during training to implement early stopping and during testing as well. The function calcluates loss on a data loader using mean squared error given the task is regressivec(however, other loss metrics could be used). "
   ]
  },
  {
   "cell_type": "code",
   "execution_count": 25,
   "metadata": {},
   "outputs": [],
   "source": [
    "import torch.nn.functional as F\n",
    "\n",
    "\n",
    "def evaluate_model(model, data_loader, device):\n",
    "    model.eval()  \n",
    "    total_loss = 0\n",
    "    with torch.no_grad():  \n",
    "        for data in data_loader:\n",
    "            data = data.to(device)\n",
    "            out = model(data)\n",
    "            \n",
    "            loss = F.mse_loss(out.squeeze(-1), data.y)  \n",
    "            total_loss += loss.item() * data.num_graphs  \n",
    "    return total_loss / len(data_loader.dataset)  "
   ]
  },
  {
   "cell_type": "code",
   "execution_count": 26,
   "metadata": {},
   "outputs": [],
   "source": [
    "def weighted_mse_loss(pred, target, weight):\n",
    "    loss = weight * (pred - target) ** 2\n",
    "    return torch.mean(loss)"
   ]
  },
  {
   "cell_type": "markdown",
   "metadata": {},
   "source": [
    "Below we train the model using k-fold cross validation. This method is leveraged to compensate for the small training data size. By training k models we randomize the data enough times to better gaugue its generalizability. Additionally, the MSE loss function used is teaked to incorporate weights that accound for sample distribution bias. "
   ]
  },
  {
   "cell_type": "code",
   "execution_count": 71,
   "metadata": {},
   "outputs": [],
   "source": [
    "from sklearn.model_selection import KFold\n",
    "import torch\n",
    "import torch.nn.functional as F\n",
    "from torch_geometric.loader import DataLoader  \n",
    "from torch.utils.data import Subset\n",
    "\n",
    "def k_fold_train_model(dataset, k_folds=5, hyperparams=None, patience=50, device='cpu'):\n",
    "    kfold = KFold(n_splits=k_folds, shuffle=True)\n",
    "    \n",
    "    fold_train_losses = []\n",
    "    fold_val_losses = []\n",
    "    \n",
    "    # Perform k-fold cross-validation\n",
    "    for fold, (train_idx, val_idx) in enumerate(kfold.split(dataset)):\n",
    "        print(f\"FOLD {fold+1}/{k_folds}\")\n",
    "        print(\"==========================================\")\n",
    "\n",
    "        # we randomly define training and validation subsets for each training process \n",
    "        train_subset = Subset(dataset, train_idx)\n",
    "        val_subset = Subset(dataset, val_idx)\n",
    "        \n",
    "        # These data loaders are used to train and evaaluate \n",
    "        train_loader = DataLoader(train_subset, batch_size=hyperparams['batch_size'], shuffle=True)\n",
    "        val_loader = DataLoader(val_subset, batch_size=hyperparams['batch_size'], shuffle=False)\n",
    "        \n",
    "        # Initialize model\n",
    "        model = CohesionGNN(num_features=12, hidden_size=32, target_size=1, dropout=0.5)\n",
    "        model = model.to(device)\n",
    "        \n",
    "        # We use an Adam to perform gradient descent and optimize model weights \n",
    "        optimizer = torch.optim.Adam(model.parameters(), lr=hyperparams['learning_rate'])\n",
    "        \n",
    "        best_val_loss = float('inf')\n",
    "        epochs_no_improve = 0\n",
    "        early_stop = False\n",
    "        train_losses = []\n",
    "        val_losses = []\n",
    "\n",
    "        # Train\n",
    "        for epoch in range(hyperparams['n_epochs']):\n",
    "            if early_stop:\n",
    "                print(f\"Early stopping triggered after {epoch} epochs.\")\n",
    "                break\n",
    "\n",
    "            model.train()\n",
    "            running_loss = 0\n",
    "            # calculate loss across training batches \n",
    "            for data in train_loader:\n",
    "                data = data.to(device)\n",
    "                optimizer.zero_grad()\n",
    "                out = model(data)\n",
    "                # use customized loss function\n",
    "                loss = weighted_mse_loss(out, data.y, data.weight)\n",
    "                loss.backward()\n",
    "                optimizer.step()\n",
    "                running_loss += loss.item() * data.num_graphs  # Multiply loss by batch size\n",
    "\n",
    "            avg_train_loss = running_loss / len(train_loader.dataset)\n",
    "            train_losses.append(avg_train_loss)\n",
    "            \n",
    "            # Evaluate on validation \n",
    "            val_loss = evaluate_model(model, val_loader, device)\n",
    "            val_losses.append(val_loss)\n",
    "\n",
    "            # Early stop after 50 epochs of declining validation loss \n",
    "            if val_loss < best_val_loss:\n",
    "                best_val_loss = val_loss\n",
    "                epochs_no_improve = 0\n",
    "                torch.save(model.state_dict(), f'models/best_model_fold_{fold+1}.pth') \n",
    "            else:\n",
    "                epochs_no_improve += 1\n",
    "\n",
    "            if epochs_no_improve >= patience:\n",
    "                early_stop = True\n",
    "\n",
    "            # Print progress\n",
    "            if epoch % hyperparams['print_interval'] == 0 or early_stop == True:\n",
    "                print(f\"Epoch: {epoch} | Train Loss: {avg_train_loss:.4f} | Val Loss: {val_loss:.4f}\")\n",
    "\n",
    "        # Store losses for this fold\n",
    "        fold_train_losses.append(train_losses)\n",
    "        fold_val_losses.append(val_losses)\n",
    "\n",
    "        print(f\"Fold {fold+1} completed.\")\n",
    "        print(\"==========================================\")\n",
    "    \n",
    "    # average the losses across all folds\n",
    "    avg_train_loss = [sum(folds) / len(folds) for folds in zip(*fold_train_losses)]\n",
    "    avg_val_loss = [sum(folds) / len(folds) for folds in zip(*fold_val_losses)]\n",
    "    \n",
    "    return avg_train_loss, avg_val_loss\n",
    "\n"
   ]
  },
  {
   "cell_type": "markdown",
   "metadata": {},
   "source": [
    "Below we train the model"
   ]
  },
  {
   "cell_type": "code",
   "execution_count": 97,
   "metadata": {},
   "outputs": [
    {
     "name": "stdout",
     "output_type": "stream",
     "text": [
      "FOLD 1/5\n",
      "==========================================\n",
      "Epoch: 0 | Train Loss: 15.7666 | Val Loss: 16.4629\n",
      "Epoch: 50 | Train Loss: 2.0918 | Val Loss: 1.8381\n",
      "Epoch: 100 | Train Loss: 1.6553 | Val Loss: 2.3229\n",
      "Epoch: 150 | Train Loss: 1.8249 | Val Loss: 1.7340\n",
      "Epoch: 200 | Train Loss: 1.7190 | Val Loss: 1.3197\n",
      "Epoch: 227 | Train Loss: 1.4646 | Val Loss: 0.8265\n",
      "Early stopping triggered after 228 epochs.\n",
      "Fold 1 completed.\n",
      "==========================================\n",
      "FOLD 2/5\n",
      "==========================================\n",
      "Epoch: 0 | Train Loss: 18.8114 | Val Loss: 16.5496\n",
      "Epoch: 50 | Train Loss: 1.8980 | Val Loss: 1.3381\n",
      "Epoch: 100 | Train Loss: 1.7984 | Val Loss: 1.1607\n",
      "Epoch: 110 | Train Loss: 1.7550 | Val Loss: 1.2053\n",
      "Early stopping triggered after 111 epochs.\n",
      "Fold 2 completed.\n",
      "==========================================\n",
      "FOLD 3/5\n",
      "==========================================\n",
      "Epoch: 0 | Train Loss: 17.5742 | Val Loss: 9.5504\n",
      "Epoch: 50 | Train Loss: 1.4353 | Val Loss: 2.9110\n",
      "Epoch: 100 | Train Loss: 1.4337 | Val Loss: 1.3289\n",
      "Epoch: 109 | Train Loss: 1.5458 | Val Loss: 1.3508\n",
      "Early stopping triggered after 110 epochs.\n",
      "Fold 3 completed.\n",
      "==========================================\n",
      "FOLD 4/5\n",
      "==========================================\n",
      "Epoch: 0 | Train Loss: 21.5992 | Val Loss: 19.0337\n",
      "Epoch: 50 | Train Loss: 1.8380 | Val Loss: 1.1635\n",
      "Epoch: 100 | Train Loss: 1.5876 | Val Loss: 1.0013\n",
      "Epoch: 150 | Train Loss: 1.6195 | Val Loss: 0.8930\n",
      "Epoch: 200 | Train Loss: 1.9956 | Val Loss: 1.1085\n",
      "Epoch: 205 | Train Loss: 1.6418 | Val Loss: 1.0615\n",
      "Early stopping triggered after 206 epochs.\n",
      "Fold 4 completed.\n",
      "==========================================\n",
      "FOLD 5/5\n",
      "==========================================\n",
      "Epoch: 0 | Train Loss: 16.7236 | Val Loss: 10.9017\n",
      "Epoch: 50 | Train Loss: 1.5618 | Val Loss: 1.3307\n",
      "Epoch: 100 | Train Loss: 1.4846 | Val Loss: 0.9418\n",
      "Epoch: 149 | Train Loss: 1.5904 | Val Loss: 0.8597\n",
      "Early stopping triggered after 150 epochs.\n",
      "Fold 5 completed.\n",
      "==========================================\n"
     ]
    }
   ],
   "source": [
    "device = torch.device('cuda' if torch.cuda.is_available() else 'cpu')\n",
    "\n",
    "kmodel = CohesionGNN(num_features=12, hidden_size=32, target_size=1, dropout=0.5)\n",
    "avg_train_loss, avg_val_loss = k_fold_train_model(data_train_val, \n",
    "                                                k_folds=5, \n",
    "                                                hyperparams=hyperparams, \n",
    "                                                patience=50, \n",
    "                                                device=device)\n",
    "\n",
    "# print(f'Average Train Loss: {avg_train_loss} \\n Average Validation Loss: {avg_val_loss}')"
   ]
  },
  {
   "cell_type": "markdown",
   "metadata": {},
   "source": [
    "We now ouput the performance fo each of the k models saved"
   ]
  },
  {
   "cell_type": "code",
   "execution_count": 98,
   "metadata": {},
   "outputs": [
    {
     "name": "stdout",
     "output_type": "stream",
     "text": [
      "Test Loss for model 1: 0.4428\n",
      "Test Loss for model 2: 0.4297\n",
      "Test Loss for model 3: 0.6311\n",
      "Test Loss for model 4: 0.5200\n",
      "Test Loss for model 5: 0.5168\n"
     ]
    }
   ],
   "source": [
    "for i in range(5):\n",
    "    kmodel.load_state_dict(torch.load(f'models/best_model_fold_{i+1}.pth'))\n",
    "\n",
    "    kmodel.eval()  \n",
    "    kmodel = kmodel.to(device)\n",
    "\n",
    "    # Prepare test data loader\n",
    "    test_loader = DataLoader(data_test, batch_size=hyperparams['batch_size'], shuffle=False)\n",
    "    test_loss = evaluate_model(kmodel, test_loader, device='cuda' if torch.cuda.is_available() else 'cpu')\n",
    "\n",
    "    print(f\"Test Loss for model {i + 1}: {test_loss:.4f}\")"
   ]
  },
  {
   "cell_type": "code",
   "execution_count": 99,
   "metadata": {},
   "outputs": [
    {
     "data": {
      "text/plain": [
       "<All keys matched successfully>"
      ]
     },
     "execution_count": 99,
     "metadata": {},
     "output_type": "execute_result"
    }
   ],
   "source": [
    "kmodel.load_state_dict(torch.load(f'models/best_model_fold_2.pth'))"
   ]
  },
  {
   "cell_type": "code",
   "execution_count": 100,
   "metadata": {},
   "outputs": [
    {
     "name": "stdout",
     "output_type": "stream",
     "text": [
      "Test Mean Squared Error: 0.4297\n",
      "Test R-squared: 0.4524\n"
     ]
    }
   ],
   "source": [
    "from sklearn.metrics import mean_squared_error, r2_score\n",
    "\n",
    "kmodel.eval()  \n",
    "kmodel = kmodel.to(device)\n",
    "\n",
    "# Prepare test data loader\n",
    "test_loader = DataLoader(data_test, batch_size=hyperparams['batch_size'], shuffle=False)\n",
    "\n",
    "# List to store predictions and actual values\n",
    "predictions = []\n",
    "actuals = []\n",
    "\n",
    "# Disable gradient \n",
    "with torch.no_grad():\n",
    "    for data in test_loader:\n",
    "        data = data.to(device)\n",
    "        out = kmodel(data)  \n",
    "        predictions.append(out.squeeze(-1).cpu().numpy())  \n",
    "        actuals.append(data.y.cpu().numpy())  \n",
    "\n",
    "# Flatten predictions and actual values lists\n",
    "predictions = np.concatenate(predictions, axis=0)\n",
    "actuals = np.concatenate(actuals, axis=0)\n",
    "\n",
    "# Calculate evaluation metrics\n",
    "mse = mean_squared_error(actuals, predictions)\n",
    "r2 = r2_score(actuals, predictions)\n",
    "\n",
    "print(f\"Test Mean Squared Error: {mse:.4f}\")\n",
    "print(f\"Test R-squared: {r2:.4f}\")\n"
   ]
  },
  {
   "cell_type": "code",
   "execution_count": 101,
   "metadata": {},
   "outputs": [
    {
     "data": {
      "image/png": "[encoded data removed]",
      "text/plain": [
       "<Figure size 800x600 with 1 Axes>"
      ]
     },
     "metadata": {},
     "output_type": "display_data"
    }
   ],
   "source": [
    "import matplotlib.pyplot as plt\n",
    "import numpy as np\n",
    "\n",
    "\n",
    "# Plotting predicted vs actual values\n",
    "plt.figure(figsize=(8, 6))\n",
    "plt.scatter(actuals, predictions, alpha=0.7, color='b', label=\"Predicted vs Actual\")\n",
    "plt.plot([min(actuals), max(actuals)], [min(actuals), max(actuals)], color='r', linestyle='--', label=\"Ideal Line (y=x)\")\n",
    "plt.xlabel(\"Actual Cohesion Values\")\n",
    "plt.ylabel(\"Predicted Cohesion Values\")\n",
    "plt.title(\"Predicted vs Actual Cohesion Values\")\n",
    "plt.ylim([1,7])\n",
    "plt.xlim([1,7])\n",
    "plt.legend()\n",
    "plt.grid(True)\n",
    "plt.show()"
   ]
  },
  {
   "cell_type": "markdown",
   "metadata": {},
   "source": [
    "The results are somewhat promising. The GNN's seem to be capturing general trends, but I don't believe that the data is plentiful enough to expect accurate regressions. Aside from suffering from its small size, the data is somewhat inclined towards high cohesion classifications. "
   ]
  },
  {
   "cell_type": "markdown",
   "metadata": {},
   "source": [
    " \n"
   ]
  }
 ],
 "metadata": {
  "kernelspec": {
   "display_name": "transcriptionEnv",
   "language": "python",
   "name": "python3"
  },
  "language_info": {
   "codemirror_mode": {
    "name": "ipython",
    "version": 3
   },
   "file_extension": ".py",
   "mimetype": "text/x-python",
   "name": "python",
   "nbconvert_exporter": "python",
   "pygments_lexer": "ipython3",
   "version": "3.9.16"
  }
 },
 "nbformat": 4,
 "nbformat_minor": 2
}
