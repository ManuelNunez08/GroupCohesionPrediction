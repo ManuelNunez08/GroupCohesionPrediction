{
 "cells": [
  {
   "cell_type": "markdown",
   "metadata": {},
   "source": [
    "We will now impleent the temporal GNN\n",
    "\n",
    "Update and learning structure: Message passing will be applied iterativley to adhere to the flow of conversation and the progress of participant memory. The steps will be as follows:\n",
    "\n",
    "    For each graph G0 ->....-> Gn ->....\n",
    "        1. Apply one layer of message passing to update the three nodes in Gn that are being spoken to by the speaker node (blue edges). \n",
    "        2. Apply one layer of message passing for each node A(n+1) referencing only their previous state An (updated in (1)) \n",
    "\n",
    "\n",
    "We will use GAT as an aggregation method in message passing such that different weights are placed on the extent to which a speaker's embedding defines another nodes embedding. Below is an image of the ways graphs will be structured. \n"
   ]
  }
 ],
 "metadata": {
  "language_info": {
   "name": "python"
  }
 },
 "nbformat": 4,
 "nbformat_minor": 2
}
