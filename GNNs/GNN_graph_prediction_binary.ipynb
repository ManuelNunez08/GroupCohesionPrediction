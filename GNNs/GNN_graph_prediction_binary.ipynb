{
 "cells": [
  {
   "cell_type": "code",
   "execution_count": 1,
   "metadata": {},
   "outputs": [],
   "source": [
    "import pandas as pd\n",
    "import pickle\n",
    "import torch\n",
    "import numpy as np\n",
    "from torch_geometric.data import Data, Dataset"
   ]
  },
  {
   "cell_type": "markdown",
   "metadata": {},
   "source": [
    "Below we implement a GNN meant for graph-level predicitons. The model performs a binary task as it trys to predict the high/low scoring category for different questions or groups of questions in the annotations questionare. The GNN employs a shallow message passing architecture to account for the inter connected nature of conversation and is enriched through the use of GATs (Graph Attention Networks) to incorporate edge features in classification. \n",
    "\n",
    "Ultimatley, the we can either choose a question or a category (task, social, or general cohesion) and accompany our choice by an agreeability parameter (standard deviation for questions or kappa score for categories), and a floor and ceiling metric, such that we restrict our training/testing group to two partions: one below the ceiling and another above the floor, with all data points abiding by the agreeability constraint. "
   ]
  },
  {
   "cell_type": "markdown",
   "metadata": {},
   "source": [
    "The function below takes in: \n",
    "- graph_data list: contains node and edge information for all meeting snippets and associates them with a meeting name and start time. \n",
    "- df: contains score averages for each question and associates them with meeting and start times. \n",
    "\n",
    "Result: the function finds all meeting snippets that occurr in both the df and graph data and only keeps those which abide by the standard deviation, floor and ceiling parameters, parameter. It creates a binary partion. The result is used to build the model dataset. "
   ]
  },
  {
   "cell_type": "code",
   "execution_count": 11,
   "metadata": {},
   "outputs": [],
   "source": [
    "def filter_and_associate_data_question_basis(graph_data, df, question, max_std_dev=1.0, floor=4.5, ceiling=3.5):\n",
    "\n",
    "    # Filter DataFrame for entries where the standard deviation is below the max_std_dev\n",
    "    filtered_df = df[(df[f'{question}_std'] <= max_std_dev) & \n",
    "                ((df[f'{question}_mean'] <= ceiling) | (df[f'{question}_mean'] >= floor))]\n",
    "    filtered_graph_data = []\n",
    "\n",
    "    # Iterate over each graph entry and find corresponding rows in the DataFrame\n",
    "    for graph_entry in graph_data:\n",
    "        meeting = graph_entry['meeting']\n",
    "        start = graph_entry['start']\n",
    "\n",
    "        # Find the matching row in the filtered DataFrame\n",
    "        match = filtered_df[(filtered_df['Meeting'] == meeting) & (filtered_df['Start'] * 60 == start)]\n",
    "        if not match.empty:\n",
    "            average_score = match[f'{question}_mean'].values[0]\n",
    "            graph_entry['score'] = 1 if average_score >= floor else 0\n",
    "            filtered_graph_data.append(graph_entry)\n",
    "\n",
    "    return filtered_graph_data\n"
   ]
  },
  {
   "cell_type": "markdown",
   "metadata": {},
   "source": [
    "The function below takes in: \n",
    "- graph_data list: contains node and edge information for all meeting snippets and associates them with a meeting name and start time. \n",
    "- df: contains score averages for each category and associates them with meeting and start times. \n",
    "\n",
    "Result: the function finds all meeting snippets that occurr in both the df and graph data and only keeps those which abide by the kappa, floor and ceiling parameter. The result is used to build the model dataset. "
   ]
  },
  {
   "cell_type": "code",
   "execution_count": 12,
   "metadata": {},
   "outputs": [],
   "source": [
    "def filter_and_associate_data_category_basis(graph_data, df_kappa, category, min_kappa=0.2, floor=3.5, ceiling=4.5):\n",
    "\n",
    "    kappa_column = f'{category}_Kappa'\n",
    "    average_column = f'{category}_Average'\n",
    "\n",
    "    filtered_df = df_kappa[(df_kappa[kappa_column] >= min_kappa) & \n",
    "                        ((df_kappa[average_column] <= ceiling) | (df_kappa[average_column] >= floor))]\n",
    "\n",
    "    filtered_graph_data = []\n",
    "\n",
    "    for graph_entry in graph_data:\n",
    "        meeting = graph_entry['meeting']\n",
    "        start = graph_entry['start']\n",
    "\n",
    "        match = filtered_df[(filtered_df['Meeting'] == meeting) & (filtered_df['Start'] * 60 == start)]\n",
    "        \n",
    "        if not match.empty:\n",
    "            # Binary classification: 1 if average score is above the floor, 0 if below the ceiling\n",
    "            average_score = match[average_column].values[0]\n",
    "            graph_entry['score'] = 1 if average_score >= floor else 0\n",
    "            filtered_graph_data.append(graph_entry)\n",
    "\n",
    "    return filtered_graph_data\n",
    "\n"
   ]
  },
  {
   "cell_type": "code",
   "execution_count": 5,
   "metadata": {},
   "outputs": [],
   "source": [
    "class CohesionGraphDataset(Dataset):\n",
    "    def __init__(self, data_list):\n",
    "        super(CohesionGraphDataset, self).__init__()\n",
    "        self.data_list = []\n",
    "\n",
    "        for entry in data_list:\n",
    "            # Process node features\n",
    "            node_features_dict = entry['features'][0]\n",
    "            node_names = list(node_features_dict.keys())  # Example: ['A', 'B', 'C', 'D']\n",
    "            node_features = []\n",
    "\n",
    "            # convert features to a tensor\n",
    "            for node in node_names:\n",
    "                node_data = node_features_dict[node]\n",
    "                node_features.append([feature[1] for feature in node_data])  \n",
    "\n",
    "            x = torch.tensor(node_features, dtype=torch.float)\n",
    "\n",
    "            # Process edges\n",
    "            edge_features_dict = entry['features'][1]\n",
    "            edge_index = []\n",
    "            edge_attr = []\n",
    "\n",
    "            # Convert into tensors\n",
    "            for edge, edge_data in edge_features_dict.items():\n",
    "                src, dst = edge.split(',')\n",
    "                src_idx = node_names.index(src)  # Get the node index for source\n",
    "                dst_idx = node_names.index(dst)  # Get the node index for destination\n",
    "\n",
    "                # Append the edge index \n",
    "                edge_index.append([src_idx, dst_idx])\n",
    "\n",
    "                # Append the edge attributes (features for this edge)\n",
    "                edge_attr.append([feature[1] for feature in edge_data])\n",
    "\n",
    "            edge_index = torch.tensor(edge_index, dtype=torch.long).t().contiguous()  \n",
    "            edge_attr = torch.tensor(edge_attr, dtype=torch.float) \n",
    "\n",
    "            # Store the score as the y label\n",
    "            y = torch.tensor([entry['score']], dtype=torch.float)\n",
    "\n",
    "            # Create Geometric Data object\n",
    "            data = Data(x=x, edge_index=edge_index, edge_attr=edge_attr, y=y)\n",
    "            self.data_list.append(data)\n",
    "\n",
    "    def __len__(self):\n",
    "        return len(self.data_list)\n",
    "\n",
    "    def __getitem__(self, idx):\n",
    "        return self.data_list[idx]\n"
   ]
  },
  {
   "cell_type": "markdown",
   "metadata": {},
   "source": [
    "Below we have the GNN model. The following features stand out: \n",
    "\n",
    "1. Single Convolutional Layer: Convolutional Layers in GNNs are used to derive node embeddings based on a node's surroudning neighbors. The greater the number of layers, the more a node's embeddings are defined by nodes which lie further away. The size and edge density of a graoh should be considered when defining the number of layers, as too many layers for a small and densely connected graph can lead to oversmoothing, a situation where node embedings are homogenous. Given we have a small, fully interconnected graph, we chose a single layer. \n",
    "\n",
    "2. Drop Out Layer: Given our sample sizes are rather small, drop out layers are implemented to avoid overfitting\n",
    "\n",
    "3. GATConv: This mechanism incorporates edge features. I have not taken the time to understand its innerworking, but feel free to: \n",
    "https://pytorch-geometric.readthedocs.io/en/latest/generated/torch_geometric.nn.conv.GATConv.html\n",
    "\n",
    "4. Global Mean Pooling: Makes this a graph-level implementation. Chosen rather arbitrarily. \n",
    "\n",
    "5. A sigmoid function for binary classification"
   ]
  },
  {
   "cell_type": "code",
   "execution_count": 6,
   "metadata": {},
   "outputs": [],
   "source": [
    "import torch\n",
    "import torch.nn as nn\n",
    "import torch.nn.functional as F\n",
    "from torch_geometric.nn import GATConv, global_mean_pool\n",
    "\n",
    "NUM_EDGE_FEATURES = 3\n",
    "NUM_NODE_FEATURES = 12\n",
    "\n",
    "class CohesionGNN(torch.nn.Module):\n",
    "    def __init__(self, num_features=NUM_NODE_FEATURES, hidden_size=32, target_size=1, dropout=0.5):\n",
    "        super(CohesionGNN, self).__init__()\n",
    "        self.hidden_size = hidden_size\n",
    "        self.num_features = num_features\n",
    "        self.target_size = target_size\n",
    "        self.dropout = dropout\n",
    "\n",
    "        # GAT convolution layer\n",
    "        self.conv1 = GATConv(self.num_features, self.hidden_size, edge_dim=NUM_EDGE_FEATURES)\n",
    "        \n",
    "        # Linear layer for binary classification (output size 1 for binary labels)\n",
    "        self.linear = nn.Linear(self.hidden_size, self.target_size)\n",
    "\n",
    "    def forward(self, data):\n",
    "        x, edge_index, edge_attr, batch = data.x, data.edge_index, data.edge_attr, data.batch\n",
    "        \n",
    "        # Apply GAT convolution layer\n",
    "        x = self.conv1(x, edge_index, edge_attr=edge_attr)\n",
    "        x = F.relu(x)\n",
    "        x = F.dropout(x, p=self.dropout, training=self.training)\n",
    "        \n",
    "        # Global mean pooling to aggregate node embeddings into graph-level representation\n",
    "        x = global_mean_pool(x, batch)  \n",
    "        \n",
    "        # Linear layer for final binary prediction\n",
    "        x = self.linear(x)  \n",
    "        \n",
    "        # Apply sigmoid for binary classification (optional, depends on the loss function used)\n",
    "        x = torch.sigmoid(x)\n",
    "        \n",
    "        return x\n"
   ]
  },
  {
   "cell_type": "markdown",
   "metadata": {},
   "source": [
    "Below we filter out any nan entries, as they break the model"
   ]
  },
  {
   "cell_type": "code",
   "execution_count": 7,
   "metadata": {},
   "outputs": [],
   "source": [
    "def filter_out_nan_entries(dataset):\n",
    "    filtered_data_list = []\n",
    "    \n",
    "    for data in dataset:\n",
    "        if (torch.isnan(data.x).any() or\n",
    "            torch.isnan(data.edge_attr).any() or\n",
    "            torch.isnan(data.y).any()):\n",
    "            continue\n",
    "        else:\n",
    "            filtered_data_list.append(data)\n",
    "\n",
    "    return filtered_data_list"
   ]
  },
  {
   "cell_type": "code",
   "execution_count": 8,
   "metadata": {},
   "outputs": [],
   "source": [
    "import pickle\n",
    "import pandas as pd \n",
    "\n",
    "# Load the graphs data from file\n",
    "with open('/Users/manuelnunezmartinez/Documents/UF/Research Internship/code/GNNs/data/annotations_graphs_new.pkl', 'rb') as f:\n",
    "    graphs_cohesion_data = pickle.load(f)\n",
    "\n",
    "# Load question-level scores df \n",
    "question_level_df = pd.read_pickle(\"/Users/manuelnunezmartinez/Documents/UF/Research Internship/code/Cohesion_Annotations/Question_Split_data.pkl\")\n",
    "category_level_df = pd.read_pickle(\"/Users/manuelnunezmartinez/Documents/UF/Research Internship/code/Cohesion_Annotations/Cohesion_split_data.pkl\")"
   ]
  },
  {
   "cell_type": "markdown",
   "metadata": {},
   "source": [
    "Load an example of both question_level and category-level data"
   ]
  },
  {
   "cell_type": "code",
   "execution_count": 179,
   "metadata": {},
   "outputs": [],
   "source": [
    "filtered_data_question = filter_and_associate_data_question_basis(graphs_cohesion_data, question_level_df, 'M1', \n",
    "                                                                max_std_dev=0.2, floor=1.9, ceiling=1.1 )\n",
    "filtered_data_cat = filter_and_associate_data_category_basis(graphs_cohesion_data, category_level_df, 'Cohesion',\n",
    "                                                            min_kappa=0.3, floor=5, ceiling=4 )"
   ]
  },
  {
   "cell_type": "code",
   "execution_count": 180,
   "metadata": {},
   "outputs": [
    {
     "name": "stdout",
     "output_type": "stream",
     "text": [
      "Size of training/validation set: 38\n",
      "Size of testing set: 9\n"
     ]
    },
    {
     "data": {
      "image/png": "[encoded data removed]",
      "text/plain": [
       "<Figure size 800x600 with 1 Axes>"
      ]
     },
     "metadata": {},
     "output_type": "display_data"
    }
   ],
   "source": [
    "from torch.utils.data import random_split\n",
    "import matplotlib.pyplot as plt\n",
    "\n",
    "# create dataset and split using stratified sampling\n",
    "dataset = CohesionGraphDataset(filtered_data_question)\n",
    "\n",
    "# Assuming `dataset` is your full dataset (a list of Data objects)\n",
    "total_size = len(dataset)\n",
    "test_size = int(0.2 * total_size)  # 20% for testing\n",
    "train_val_size = total_size - test_size  # 80% for training and validation\n",
    "\n",
    "# Create a random split for training_val and test sets\n",
    "data_train_val, data_test = random_split(dataset, [train_val_size, test_size])\n",
    "\n",
    "# filter out NaN entries in your dataset\n",
    "data_train_val = filter_out_nan_entries(data_train_val)\n",
    "data_test = filter_out_nan_entries(data_test)\n",
    "\n",
    "print(f'Size of training/validation set: {len(data_train_val)}')\n",
    "print(f'Size of testing set: {len(data_test)}')\n",
    "\n",
    "# get labels \n",
    "train_val_targets = [data.y.item() for data in data_train_val]\n",
    "\n",
    "# plot distribution\n",
    "# Plot the distribution of the training data (y values)\n",
    "plt.figure(figsize=(8, 6))\n",
    "plt.hist(train_val_targets, bins=20, edgecolor='black', alpha=0.7)\n",
    "plt.title('Distribution of Training Data (Target Values)')\n",
    "plt.xlabel('Target Value (y)')\n",
    "plt.ylabel('Frequency')\n",
    "plt.grid(True)\n",
    "plt.show()"
   ]
  },
  {
   "cell_type": "markdown",
   "metadata": {},
   "source": [
    "To acount for dataset biases, which predomninantly tend towards high cohesion scores, we will employ the DenseWeight library to obtain weights for each observation which can then be utilized in the loss function to apply a greater penalty to gradients which favor high cohesion predictions. "
   ]
  },
  {
   "cell_type": "code",
   "execution_count": 181,
   "metadata": {},
   "outputs": [],
   "source": [
    "from denseweight import DenseWeight\n",
    "\n",
    "# Lets add a weight to each observation in the training data \n",
    "dw = DenseWeight(alpha=0.0)\n",
    "train_val_weights = dw.fit(train_val_targets)\n",
    "\n",
    "for i, data in enumerate(data_train_val):\n",
    "    data.weight = torch.tensor([train_val_weights[i]], dtype=torch.float)"
   ]
  },
  {
   "cell_type": "code",
   "execution_count": 182,
   "metadata": {},
   "outputs": [
    {
     "name": "stdout",
     "output_type": "stream",
     "text": [
      "Value: 0.0 | Weight: 1.0\n",
      "Value: 0.0 | Weight: 1.0\n",
      "Value: 1.0 | Weight: 1.0\n",
      "Value: 0.0 | Weight: 1.0\n",
      "Value: 0.0 | Weight: 1.0\n",
      "Value: 1.0 | Weight: 1.0\n",
      "Value: 1.0 | Weight: 1.0\n",
      "Value: 1.0 | Weight: 1.0\n",
      "Value: 0.0 | Weight: 1.0\n",
      "Value: 1.0 | Weight: 1.0\n",
      "Value: 1.0 | Weight: 1.0\n",
      "Value: 0.0 | Weight: 1.0\n",
      "Value: 0.0 | Weight: 1.0\n",
      "Value: 1.0 | Weight: 1.0\n",
      "Value: 0.0 | Weight: 1.0\n",
      "Value: 1.0 | Weight: 1.0\n",
      "Value: 0.0 | Weight: 1.0\n",
      "Value: 1.0 | Weight: 1.0\n",
      "Value: 0.0 | Weight: 1.0\n",
      "Value: 0.0 | Weight: 1.0\n",
      "Value: 0.0 | Weight: 1.0\n",
      "Value: 0.0 | Weight: 1.0\n",
      "Value: 1.0 | Weight: 1.0\n",
      "Value: 0.0 | Weight: 1.0\n",
      "Value: 1.0 | Weight: 1.0\n",
      "Value: 1.0 | Weight: 1.0\n",
      "Value: 1.0 | Weight: 1.0\n",
      "Value: 0.0 | Weight: 1.0\n",
      "Value: 1.0 | Weight: 1.0\n",
      "Value: 0.0 | Weight: 1.0\n",
      "Value: 0.0 | Weight: 1.0\n",
      "Value: 1.0 | Weight: 1.0\n",
      "Value: 1.0 | Weight: 1.0\n",
      "Value: 0.0 | Weight: 1.0\n",
      "Value: 0.0 | Weight: 1.0\n",
      "Value: 1.0 | Weight: 1.0\n",
      "Value: 0.0 | Weight: 1.0\n",
      "Value: 1.0 | Weight: 1.0\n"
     ]
    }
   ],
   "source": [
    "for i, data in enumerate(data_train_val):\n",
    "    print(f\"Value: {data.y.item()} | Weight: {data.weight[0]}\")"
   ]
  },
  {
   "cell_type": "markdown",
   "metadata": {},
   "source": [
    "We now move onto model training\n",
    "\n",
    "Below we have the hyperparameters used. I've opted for a small batch size given I have a small dataset and I am betting on a a greater number of small subgroups to best train the model, given the data size limit. I have found that 0.01 is generally the best learning rate. "
   ]
  },
  {
   "cell_type": "code",
   "execution_count": 74,
   "metadata": {},
   "outputs": [],
   "source": [
    "hyperparams = {\n",
    "    'batch_size' : 4, \n",
    "    'save_loss_interval' : 10, \n",
    "    'print_interval' : 50,\n",
    "    'n_epochs' : 250, \n",
    "    'learning_rate' : 0.005\n",
    "}"
   ]
  },
  {
   "cell_type": "code",
   "execution_count": 29,
   "metadata": {},
   "outputs": [],
   "source": [
    "import torch.nn.functional as F\n",
    "\n",
    "\n",
    "def evaluate_model(model, data_loader, device):\n",
    "    model.eval()  \n",
    "    total_loss = 0\n",
    "    with torch.no_grad():  \n",
    "        for data in data_loader:\n",
    "            data = data.to(device)\n",
    "            out = model(data)\n",
    "            \n",
    "            loss = F.mse_loss(out.squeeze(-1), data.y)  \n",
    "            total_loss += loss.item() * data.num_graphs  \n",
    "    return total_loss / len(data_loader.dataset)  "
   ]
  },
  {
   "cell_type": "markdown",
   "metadata": {},
   "source": [
    "Customized BCE function to incroporate dense weights and deal with class imbalance. "
   ]
  },
  {
   "cell_type": "code",
   "execution_count": 30,
   "metadata": {},
   "outputs": [],
   "source": [
    "import torch\n",
    "import torch.nn.functional as F\n",
    "\n",
    "def weighted_bce_loss(pred, target, weight):\n",
    "\n",
    "    # Apply sigmoid, BCE, and multiply weighted loss (greater loss for laerger predicitons). \n",
    "    pred = torch.sigmoid(pred)\n",
    "    bce_loss = F.binary_cross_entropy(pred, target, reduction='none')\n",
    "    weighted_loss = weight * bce_loss\n",
    "    \n",
    "    return torch.mean(weighted_loss)\n",
    "\n"
   ]
  },
  {
   "cell_type": "markdown",
   "metadata": {},
   "source": [
    "Below we train the model using k-fold cross validation. This method is leveraged to compensate for the small training data size. By training k models we randomize the data enough times to better gaugue its generalizability. Additionally, the MSE loss function used is teaked to incorporate weights that accound for sample distribution bias. "
   ]
  },
  {
   "cell_type": "code",
   "execution_count": 33,
   "metadata": {},
   "outputs": [],
   "source": [
    "from sklearn.model_selection import KFold\n",
    "import torch\n",
    "import torch.nn.functional as F\n",
    "from torch_geometric.loader import DataLoader  \n",
    "from torch.utils.data import Subset\n",
    "\n",
    "\n",
    "# Training loop with k-fold cross-validation\n",
    "def k_fold_train_model(dataset, k_folds=5, hyperparams=None, patience=50, device='cpu'):\n",
    "    kfold = KFold(n_splits=k_folds, shuffle=True)\n",
    "    \n",
    "    fold_train_losses = []\n",
    "    fold_val_losses = []\n",
    "    \n",
    "    # Perform k-fold cross-validation\n",
    "    for fold, (train_idx, val_idx) in enumerate(kfold.split(dataset)):\n",
    "        print(f\"FOLD {fold+1}/{k_folds}\")\n",
    "        print(\"==========================================\")\n",
    "\n",
    "        # Create training and validation subsets\n",
    "        train_subset = Subset(dataset, train_idx)\n",
    "        val_subset = Subset(dataset, val_idx)\n",
    "        \n",
    "        # Data loaders\n",
    "        train_loader = DataLoader(train_subset, batch_size=hyperparams['batch_size'], shuffle=True)\n",
    "        val_loader = DataLoader(val_subset, batch_size=hyperparams['batch_size'], shuffle=False)\n",
    "        \n",
    "        # Initialize model (binary classification with 1 output)\n",
    "        model = CohesionGNN(num_features=12, hidden_size=32, target_size=1, dropout=0.5)\n",
    "        model = model.to(device)\n",
    "        \n",
    "        # Optimizer\n",
    "        optimizer = torch.optim.Adam(model.parameters(), lr=hyperparams['learning_rate'])\n",
    "        \n",
    "        best_val_loss = float('inf')\n",
    "        epochs_no_improve = 0\n",
    "        early_stop = False\n",
    "        train_losses = []\n",
    "        val_losses = []\n",
    "\n",
    "        # Train loop\n",
    "        for epoch in range(hyperparams['n_epochs']):\n",
    "            if early_stop:\n",
    "                print(f\"Early stopping triggered after {epoch} epochs.\")\n",
    "                break\n",
    "\n",
    "            model.train()\n",
    "            running_loss = 0\n",
    "            # Training step\n",
    "            for data in train_loader:\n",
    "                data = data.to(device)\n",
    "                optimizer.zero_grad()\n",
    "                out = model(data)\n",
    "                \n",
    "                # Use the custom weighted BCE loss\n",
    "                loss = weighted_bce_loss(out.squeeze(-1), data.y, data.weight)\n",
    "                loss.backward()\n",
    "                optimizer.step()\n",
    "                running_loss += loss.item() * data.num_graphs\n",
    "\n",
    "            avg_train_loss = running_loss / len(train_loader.dataset)\n",
    "            train_losses.append(avg_train_loss)\n",
    "            \n",
    "            # Evaluate on validation set\n",
    "            val_loss = evaluate_model(model, val_loader, device)\n",
    "            val_losses.append(val_loss)\n",
    "\n",
    "            # Early stopping logic\n",
    "            if val_loss < best_val_loss:\n",
    "                best_val_loss = val_loss\n",
    "                epochs_no_improve = 0\n",
    "                torch.save(model.state_dict(), f'models/best_model_fold_{fold+1}.pth') \n",
    "            else:\n",
    "                epochs_no_improve += 1\n",
    "\n",
    "            if epochs_no_improve >= patience:\n",
    "                early_stop = True\n",
    "\n",
    "            # Print progress\n",
    "            if epoch % hyperparams['print_interval'] == 0 or early_stop:\n",
    "                print(f\"Epoch: {epoch} | Train Loss: {avg_train_loss:.4f} | Val Loss: {val_loss:.4f}\")\n",
    "\n",
    "        # Store fold losses\n",
    "        fold_train_losses.append(train_losses)\n",
    "        fold_val_losses.append(val_losses)\n",
    "\n",
    "        print(f\"Fold {fold+1} completed.\")\n",
    "        print(\"==========================================\")\n",
    "    \n",
    "    # Average the losses across all folds\n",
    "    avg_train_loss = [sum(folds) / len(folds) for folds in zip(*fold_train_losses)]\n",
    "    avg_val_loss = [sum(folds) / len(folds) for folds in zip(*fold_val_losses)]\n",
    "    \n",
    "    return avg_train_loss, avg_val_loss\n"
   ]
  },
  {
   "cell_type": "markdown",
   "metadata": {},
   "source": [
    "Now we actually train the model"
   ]
  },
  {
   "cell_type": "code",
   "execution_count": 183,
   "metadata": {},
   "outputs": [
    {
     "name": "stdout",
     "output_type": "stream",
     "text": [
      "FOLD 1/5\n",
      "==========================================\n",
      "Epoch: 0 | Train Loss: 0.7452 | Val Loss: 0.2524\n",
      "Epoch: 50 | Train Loss: 0.6922 | Val Loss: 0.4186\n",
      "Early stopping triggered after 51 epochs.\n",
      "Fold 1 completed.\n",
      "==========================================\n",
      "FOLD 2/5\n",
      "==========================================\n",
      "Epoch: 0 | Train Loss: 0.7276 | Val Loss: 0.2389\n",
      "Epoch: 50 | Train Loss: 0.6861 | Val Loss: 0.3050\n",
      "Early stopping triggered after 51 epochs.\n",
      "Fold 2 completed.\n",
      "==========================================\n",
      "FOLD 3/5\n",
      "==========================================\n",
      "Epoch: 0 | Train Loss: 0.7102 | Val Loss: 0.2400\n",
      "Epoch: 50 | Train Loss: 0.6729 | Val Loss: 0.2028\n",
      "Epoch: 54 | Train Loss: 0.6680 | Val Loss: 0.1953\n",
      "Early stopping triggered after 55 epochs.\n",
      "Fold 3 completed.\n",
      "==========================================\n",
      "FOLD 4/5\n",
      "==========================================\n",
      "Epoch: 0 | Train Loss: 0.7428 | Val Loss: 0.3605\n",
      "Epoch: 50 | Train Loss: 0.6915 | Val Loss: 0.6680\n",
      "Early stopping triggered after 51 epochs.\n",
      "Fold 4 completed.\n",
      "==========================================\n",
      "FOLD 5/5\n",
      "==========================================\n",
      "Epoch: 0 | Train Loss: 0.7298 | Val Loss: 0.3116\n",
      "Epoch: 50 | Train Loss: 0.6879 | Val Loss: 0.5075\n",
      "Early stopping triggered after 51 epochs.\n",
      "Fold 5 completed.\n",
      "==========================================\n"
     ]
    }
   ],
   "source": [
    "device = torch.device('cuda' if torch.cuda.is_available() else 'cpu')\n",
    "\n",
    "kmodel = CohesionGNN(num_features=12, hidden_size=32, target_size=1, dropout=0.5)\n",
    "avg_train_loss, avg_val_loss = k_fold_train_model(data_train_val, \n",
    "                                                k_folds=5, \n",
    "                                                hyperparams=hyperparams, \n",
    "                                                patience=50, \n",
    "                                                device='cuda' if torch.cuda.is_available() else 'cpu')"
   ]
  },
  {
   "cell_type": "code",
   "execution_count": 184,
   "metadata": {},
   "outputs": [
    {
     "name": "stdout",
     "output_type": "stream",
     "text": [
      "Test Loss for model 1: 0.2654\n",
      "Test Loss for model 2: 0.2664\n",
      "Test Loss for model 3: 0.3902\n",
      "Test Loss for model 4: 0.3780\n",
      "Test Loss for model 5: 0.3689\n"
     ]
    }
   ],
   "source": [
    "for i in range(5):\n",
    "    kmodel.load_state_dict(torch.load(f'models/best_model_fold_{i+1}.pth'))\n",
    "\n",
    "    kmodel.eval()  \n",
    "    kmodel = kmodel.to(device)\n",
    "\n",
    "    # Prepare test data loader\n",
    "    test_loader = DataLoader(data_test, batch_size=hyperparams['batch_size'], shuffle=False)\n",
    "    test_loss = evaluate_model(kmodel, test_loader, device='cuda' if torch.cuda.is_available() else 'cpu')\n",
    "\n",
    "    print(f\"Test Loss for model {i + 1}: {test_loss:.4f}\")"
   ]
  },
  {
   "cell_type": "code",
   "execution_count": 188,
   "metadata": {},
   "outputs": [
    {
     "data": {
      "text/plain": [
       "<All keys matched successfully>"
      ]
     },
     "execution_count": 188,
     "metadata": {},
     "output_type": "execute_result"
    }
   ],
   "source": [
    "kmodel.load_state_dict(torch.load(f'models/best_model_fold_2.pth'))"
   ]
  },
  {
   "cell_type": "markdown",
   "metadata": {},
   "source": [
    "We will now find the sigmoid threshold at which a split between classes leads to the highest F1 score. 0.5 is found to not be the optimal therhold, presumably because we are dealing with an unblanced dataset. "
   ]
  },
  {
   "cell_type": "code",
   "execution_count": 189,
   "metadata": {},
   "outputs": [
    {
     "name": "stdout",
     "output_type": "stream",
     "text": [
      "Optimal threshold: 0.6103\n",
      "Accuracy: 0.8889\n",
      "Precision: 0.8571\n",
      "Recall: 1.0000\n",
      "Final F1 Score: 0.9231\n"
     ]
    }
   ],
   "source": [
    "import numpy as np\n",
    "from sklearn.metrics import precision_recall_curve, f1_score, accuracy_score, precision_score, recall_score\n",
    "\n",
    "kmodel.eval()  \n",
    "kmodel = kmodel.to(device)\n",
    "\n",
    "# Collect predictions and true labels\n",
    "all_probs = []\n",
    "all_labels = []\n",
    "\n",
    "with torch.no_grad():  \n",
    "    for data in data_test:\n",
    "        out = kmodel(data).squeeze(-1)  \n",
    "        probs = torch.sigmoid(out)  \n",
    "        all_probs.append(probs.cpu().numpy())\n",
    "        all_labels.append(data.y.cpu().numpy())\n",
    "\n",
    "# compute metrics across all test samples\n",
    "all_probs = np.concatenate(all_probs, axis=0)\n",
    "all_labels = np.concatenate(all_labels, axis=0)\n",
    "\n",
    "# Calculate precision, recall, and thresholds\n",
    "precision, recall, thresholds = precision_recall_curve(all_labels, all_probs)\n",
    "\n",
    "# Calculate F1 scores for each threshold\n",
    "f1_scores = 2 * (precision * recall) / (precision + recall)\n",
    "\n",
    "# Filter out NaN values from F1 scores\n",
    "valid_idx = ~np.isnan(f1_scores)\n",
    "valid_f1_scores = f1_scores[valid_idx]\n",
    "valid_thresholds = thresholds[valid_idx[:-1]]  # thresholds are one element shorter than f1_scores\n",
    "\n",
    "# Find the threshold that maximizes the valid F1 score\n",
    "optimal_idx = np.argmax(valid_f1_scores)\n",
    "optimal_threshold = valid_thresholds[optimal_idx]\n",
    "optimal_f1 = valid_f1_scores[optimal_idx]\n",
    "\n",
    "print(f\"Optimal threshold: {optimal_threshold:.4f}\")\n",
    "\n",
    "# Evaluate the model using the optimal threshold\n",
    "preds = (all_probs >= optimal_threshold).astype(int)\n",
    "\n",
    "# Now calculate the final evaluation metrics based on this threshold\n",
    "accuracy = accuracy_score(all_labels, preds)\n",
    "precision = precision_score(all_labels, preds, zero_division=0)  \n",
    "recall = recall_score(all_labels, preds, zero_division=0)  \n",
    "f1 = f1_score(all_labels, preds, zero_division=0) \n",
    "\n",
    "print(f\"Accuracy: {accuracy:.4f}\")\n",
    "print(f\"Precision: {precision:.4f}\")\n",
    "print(f\"Recall: {recall:.4f}\")\n",
    "print(f\"Final F1 Score: {f1:.4f}\")\n"
   ]
  },
  {
   "cell_type": "markdown",
   "metadata": {},
   "source": [
    "Below we output a confusion matrix"
   ]
  },
  {
   "cell_type": "code",
   "execution_count": 190,
   "metadata": {},
   "outputs": [
    {
     "data": {
      "image/png": "[encoded data removed]",
      "text/plain": [
       "<Figure size 640x480 with 2 Axes>"
      ]
     },
     "metadata": {},
     "output_type": "display_data"
    }
   ],
   "source": [
    "from sklearn.metrics import confusion_matrix\n",
    "import seaborn as sns\n",
    "import matplotlib.pyplot as plt\n",
    "\n",
    "cm = confusion_matrix(all_labels, preds)\n",
    "sns.heatmap(cm, annot=True, fmt='d', cmap='Blues', xticklabels=['Class 0', 'Class 1'], yticklabels=['Class 0', 'Class 1'])\n",
    "plt.xlabel('Predicted')\n",
    "plt.ylabel('Actual')\n",
    "plt.show()"
   ]
  },
  {
   "cell_type": "markdown",
   "metadata": {},
   "source": [
    "All in all, pretty good stuff. While test suites are small, they all perfom relativley well for the general cohesion metric. "
   ]
  },
  {
   "cell_type": "code",
   "execution_count": 2,
   "metadata": {},
   "outputs": [
    {
     "name": "stdout",
     "output_type": "stream",
     "text": [
      "MKL_THREADING_LAYER: TBB\n"
     ]
    }
   ],
   "source": [
    "import os\n",
    "os.environ['MKL_THREADING_LAYER'] = 'TBB'\n",
    "print(\"MKL_THREADING_LAYER:\", os.environ.get(\"MKL_THREADING_LAYER\"))"
   ]
  },
  {
   "cell_type": "code",
   "execution_count": 1,
   "metadata": {},
   "outputs": [
    {
     "name": "stdout",
     "output_type": "stream",
     "text": [
      "0\n",
      "1\n",
      "2\n",
      "3\n",
      "4\n"
     ]
    }
   ],
   "source": [
    "for i in range(5):\n",
    "    print(i)"
   ]
  }
 ],
 "metadata": {
  "kernelspec": {
   "display_name": "transcriptionEnv",
   "language": "python",
   "name": "python3"
  },
  "language_info": {
   "codemirror_mode": {
    "name": "ipython",
    "version": 3
   },
   "file_extension": ".py",
   "mimetype": "text/x-python",
   "name": "python",
   "nbconvert_exporter": "python",
   "pygments_lexer": "ipython3",
   "version": "3.9.16"
  }
 },
 "nbformat": 4,
 "nbformat_minor": 2
}
