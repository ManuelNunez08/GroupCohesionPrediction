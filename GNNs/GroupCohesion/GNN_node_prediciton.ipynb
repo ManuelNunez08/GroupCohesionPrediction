{
 "cells": [
  {
   "cell_type": "code",
   "execution_count": 1,
   "metadata": {},
   "outputs": [],
   "source": [
    "import pandas as pd\n",
    "import pickle\n",
    "import torch\n",
    "from torch_geometric.data import Data, Dataset"
   ]
  },
  {
   "cell_type": "markdown",
   "metadata": {},
   "source": [
    "As a sort of test to get aquainted with GNN's lets first try to use them for node level predictions by predicting the sex and native language of meeting participants. We will start with sex, although I would be surprised if any notable differences actually exist. "
   ]
  },
  {
   "cell_type": "code",
   "execution_count": 64,
   "metadata": {},
   "outputs": [
    {
     "data": {
      "text/html": [
       "<div>\n",
       "<style scoped>\n",
       "    .dataframe tbody tr th:only-of-type {\n",
       "        vertical-align: middle;\n",
       "    }\n",
       "\n",
       "    .dataframe tbody tr th {\n",
       "        vertical-align: top;\n",
       "    }\n",
       "\n",
       "    .dataframe thead th {\n",
       "        text-align: right;\n",
       "    }\n",
       "</style>\n",
       "<table border=\"1\" class=\"dataframe\">\n",
       "  <thead>\n",
       "    <tr style=\"text-align: right;\">\n",
       "      <th></th>\n",
       "      <th>Unnamed: 0</th>\n",
       "      <th>ID</th>\n",
       "      <th>Native Language</th>\n",
       "      <th>Months Learning</th>\n",
       "      <th>Influences</th>\n",
       "      <th>Meeting</th>\n",
       "      <th>Letter</th>\n",
       "      <th>Role</th>\n",
       "      <th>Sex</th>\n",
       "    </tr>\n",
       "  </thead>\n",
       "  <tbody>\n",
       "    <tr>\n",
       "      <th>0</th>\n",
       "      <td>0</td>\n",
       "      <td>FEE005</td>\n",
       "      <td>English</td>\n",
       "      <td>NaN</td>\n",
       "      <td>NaN</td>\n",
       "      <td>ES2002a</td>\n",
       "      <td>B</td>\n",
       "      <td>PM</td>\n",
       "      <td>F</td>\n",
       "    </tr>\n",
       "    <tr>\n",
       "      <th>1</th>\n",
       "      <td>1</td>\n",
       "      <td>FEE005</td>\n",
       "      <td>English</td>\n",
       "      <td>NaN</td>\n",
       "      <td>NaN</td>\n",
       "      <td>ES2002b</td>\n",
       "      <td>B</td>\n",
       "      <td>PM</td>\n",
       "      <td>F</td>\n",
       "    </tr>\n",
       "    <tr>\n",
       "      <th>2</th>\n",
       "      <td>2</td>\n",
       "      <td>FEE005</td>\n",
       "      <td>English</td>\n",
       "      <td>NaN</td>\n",
       "      <td>NaN</td>\n",
       "      <td>ES2002c</td>\n",
       "      <td>B</td>\n",
       "      <td>PM</td>\n",
       "      <td>F</td>\n",
       "    </tr>\n",
       "    <tr>\n",
       "      <th>3</th>\n",
       "      <td>3</td>\n",
       "      <td>FEE005</td>\n",
       "      <td>English</td>\n",
       "      <td>NaN</td>\n",
       "      <td>NaN</td>\n",
       "      <td>ES2002d</td>\n",
       "      <td>B</td>\n",
       "      <td>PM</td>\n",
       "      <td>F</td>\n",
       "    </tr>\n",
       "    <tr>\n",
       "      <th>4</th>\n",
       "      <td>4</td>\n",
       "      <td>MEE006</td>\n",
       "      <td>English</td>\n",
       "      <td>NaN</td>\n",
       "      <td>['Mandarin', 'Cantonese']</td>\n",
       "      <td>ES2002a</td>\n",
       "      <td>A</td>\n",
       "      <td>ID</td>\n",
       "      <td>M</td>\n",
       "    </tr>\n",
       "  </tbody>\n",
       "</table>\n",
       "</div>"
      ],
      "text/plain": [
       "   Unnamed: 0      ID Native Language  Months Learning  \\\n",
       "0           0  FEE005         English              NaN   \n",
       "1           1  FEE005         English              NaN   \n",
       "2           2  FEE005         English              NaN   \n",
       "3           3  FEE005         English              NaN   \n",
       "4           4  MEE006         English              NaN   \n",
       "\n",
       "                  Influences  Meeting Letter Role Sex  \n",
       "0                        NaN  ES2002a      B   PM   F  \n",
       "1                        NaN  ES2002b      B   PM   F  \n",
       "2                        NaN  ES2002c      B   PM   F  \n",
       "3                        NaN  ES2002d      B   PM   F  \n",
       "4  ['Mandarin', 'Cantonese']  ES2002a      A   ID   M  "
      ]
     },
     "execution_count": 64,
     "metadata": {},
     "output_type": "execute_result"
    }
   ],
   "source": [
    "participant_info = pd.read_csv('/Users/manuelnunezmartinez/Documents/UF/Research Internship/code/corpusResources/summary.csv')\n",
    "# Extract sex from the ID column\n",
    "participant_info['Sex'] = participant_info['ID'].apply(lambda x: 'F' if x[0] == 'F' else 'M')\n",
    "participant_info.head()\n"
   ]
  },
  {
   "cell_type": "code",
   "execution_count": 65,
   "metadata": {},
   "outputs": [
    {
     "name": "stdout",
     "output_type": "stream",
     "text": [
      "<class 'pandas.core.frame.DataFrame'>\n",
      "Index: 518 entries, 0 to 521\n",
      "Data columns (total 9 columns):\n",
      " #   Column           Non-Null Count  Dtype  \n",
      "---  ------           --------------  -----  \n",
      " 0   Unnamed: 0       518 non-null    int64  \n",
      " 1   ID               518 non-null    object \n",
      " 2   Native Language  518 non-null    object \n",
      " 3   Months Learning  118 non-null    float64\n",
      " 4   Influences       287 non-null    object \n",
      " 5   Meeting          518 non-null    object \n",
      " 6   Letter           518 non-null    object \n",
      " 7   Role             392 non-null    object \n",
      " 8   Sex              518 non-null    object \n",
      "dtypes: float64(1), int64(1), object(7)\n",
      "memory usage: 40.5+ KB\n"
     ]
    }
   ],
   "source": [
    "participant_info = participant_info.dropna(subset=['Native Language'])\n",
    "participant_info.info()"
   ]
  },
  {
   "cell_type": "code",
   "execution_count": 80,
   "metadata": {},
   "outputs": [
    {
     "name": "stdout",
     "output_type": "stream",
     "text": [
      "Number of English native speakers: 305\n",
      "Number of non-English native speakers: 213\n"
     ]
    }
   ],
   "source": [
    "# Count the occurrences of \"English\"\n",
    "english_count = participant_info[participant_info['Native Language'] == 'English'].shape[0]\n",
    "\n",
    "# Count the occurrences of non-English languages\n",
    "non_english_count = participant_info[participant_info['Native Language'] != 'English'].shape[0]\n",
    "\n",
    "# Output the counts\n",
    "print(f\"Number of English native speakers: {english_count}\")\n",
    "print(f\"Number of non-English native speakers: {non_english_count}\")"
   ]
  },
  {
   "cell_type": "markdown",
   "metadata": {},
   "source": [
    "Below we implenent the model necessary for all models built using Pytorch. This dataset must, at the bare minimum overload the following methods: \n",
    "- An Initialization method, which in this case uses a list of meetings and their respective interaction features together with a list of the sex for each participant in each meeting, to compose an \"X and Y\" such that each partiticpants sex is linked to their interactive behavior \n",
    "- A length method to \n",
    "- A method to obtain an entry gievn an index. Note that this requires the dataset to be oridnal such that each X is matched to its respective Y. "
   ]
  },
  {
   "cell_type": "markdown",
   "metadata": {},
   "source": [
    "Below we implement the dataset necessary for all models build using "
   ]
  },
  {
   "cell_type": "code",
   "execution_count": 81,
   "metadata": {},
   "outputs": [],
   "source": [
    "from torch.utils.data import Dataset\n",
    "from torch_geometric.data import Data\n",
    "\n",
    "class MyGraphDataset(Dataset):\n",
    "    def __init__(self, data_list, participant_info):\n",
    "        super(MyGraphDataset, self).__init__()\n",
    "        self.participant_info = participant_info\n",
    "\n",
    "        # Filter the data_list to only include entries with valid participants\n",
    "        self.data_list = []\n",
    "        for entry in data_list:\n",
    "            meeting, start_time, (node_dic, edge_dic) = entry\n",
    "            valid = True\n",
    "            for node in node_dic.keys():\n",
    "                participant_id = self.participant_info[(self.participant_info['Meeting'] == meeting) & (self.participant_info['Letter'] == node)]['ID']\n",
    "                if participant_id.empty:\n",
    "                    valid = False\n",
    "                    break\n",
    "            if valid:\n",
    "                # Add node info\n",
    "                node_label = {}\n",
    "                for node in node_dic.keys():\n",
    "                    participant_id = self.participant_info[(self.participant_info['Meeting'] == meeting) & (self.participant_info['Letter'] == node)]['ID'].values[0]\n",
    "                    label = self.participant_info[self.participant_info['ID'] == participant_id]['Native Language'].values[0]\n",
    "                    node_label[node] = 0 if label == 'English' else 1  \n",
    "                self.data_list.append((meeting, start_time, (node_dic, edge_dic, node_label)))\n",
    "\n",
    "    def __len__(self):\n",
    "        return len(self.data_list)\n",
    "\n",
    "    def __getitem__(self, idx):\n",
    "        meeting, start_time, (node_dic, edge_dic, node_sex) = self.data_list[idx]\n",
    "\n",
    "        # Create node features tensor\n",
    "        node_features = []\n",
    "        node_labels = []\n",
    "        for node, features in node_dic.items():\n",
    "            node_features.append([feature[1] for feature in features])\n",
    "            node_labels.append(node_sex[node])\n",
    "\n",
    "        x = torch.tensor(node_features, dtype=torch.float)\n",
    "        y = torch.tensor(node_labels, dtype=torch.long)\n",
    "\n",
    "\n",
    "        # Create edge indices and edge features tensor\n",
    "        edge_indices = []\n",
    "        edge_features = []\n",
    "        for edge, features in edge_dic.items():\n",
    "            src, dst = edge.split(',')\n",
    "            src_idx = ord(src) - ord('A')\n",
    "            dst_idx = ord(dst) - ord('A')\n",
    "            edge_indices.append([src_idx, dst_idx])\n",
    "            edge_features.append([feature[1] for feature in features])\n",
    "\n",
    "        edge_index = torch.tensor(edge_indices, dtype=torch.long).t().contiguous()\n",
    "        edge_attr = torch.tensor(edge_features, dtype=torch.float)\n",
    "\n",
    "        return Data(x=x, edge_index=edge_index, edge_attr=edge_attr, y=y)\n",
    "\n"
   ]
  },
  {
   "cell_type": "code",
   "execution_count": 89,
   "metadata": {},
   "outputs": [],
   "source": [
    "# Load the graphs data from file\n",
    "with open('updated_graphs_data.pkl', 'rb') as f:\n",
    "    graphs_data = pickle.load(f)\n",
    "\n",
    "dataset = MyGraphDataset(graphs_data, participant_info)"
   ]
  },
  {
   "cell_type": "markdown",
   "metadata": {},
   "source": [
    "each entry in the datset contains 4 entries: \n",
    "- x: 4 rows X 12 features each, one row per particpant, transformed into a tensor\n",
    "- edge_index: 2 rows X 12 indexes each, to store each permuatation of pairs indexing an edge \n",
    "- edge_attr: 12 rows X 3 features each, storing a transformed tensor of edge features between each pair permutation\n",
    "- y: 4 entries storing the sex of each meeting pariticpant "
   ]
  },
  {
   "cell_type": "code",
   "execution_count": 90,
   "metadata": {},
   "outputs": [
    {
     "name": "stdout",
     "output_type": "stream",
     "text": [
      "tensor([[2.7293e-01, 8.3333e-02, 3.6004e+00, 4.9784e-01, 8.9686e-03, 4.4843e-03,\n",
      "         3.1298e-04, 0.0000e+00, 2.1645e-02, 0.0000e+00, 6.0606e-02, 1.2987e-02],\n",
      "        [5.2905e-01, 6.6667e-01, 3.3207e+00, 4.4310e-01, 4.3928e-02, 1.8088e-02,\n",
      "         3.4122e-04, 0.0000e+00, 2.4213e-02, 2.4213e-03, 4.6005e-02, 1.2107e-02],\n",
      "        [1.3655e-01, 1.6667e-01, 4.1745e+00, 6.2687e-01, 3.9370e-02, 7.8740e-03,\n",
      "         2.9319e-04, 1.4925e-02, 4.4776e-02, 0.0000e+00, 1.4925e-02, 7.4627e-03],\n",
      "        [1.1098e-01, 8.3333e-02, 4.4845e+00, 6.0684e-01, 4.0000e-02, 0.0000e+00,\n",
      "         2.7724e-04, 0.0000e+00, 5.1282e-02, 0.0000e+00, 5.1282e-02, 1.7094e-02]])\n",
      "tensor([[0, 0, 0, 1, 1, 1, 2, 2, 2, 3, 3, 3],\n",
      "        [1, 2, 3, 0, 2, 3, 0, 1, 3, 0, 1, 2]])\n",
      "tensor([[7.0506e-01, 1.7015e-02, 2.8571e+00],\n",
      "        [5.4559e-01, 4.2539e-03, 3.8000e+00],\n",
      "        [4.6247e-01, 1.7015e-02, 1.5000e+00],\n",
      "        [7.0506e-01, 2.9777e-02, 2.6250e+00],\n",
      "        [3.6688e-01, 1.2762e-02, 1.2000e+00],\n",
      "        [3.2383e-01, 4.2539e-03, 5.5000e+00],\n",
      "        [5.4559e-01, 0.0000e+00, 6.0000e+00],\n",
      "        [3.6688e-01, 4.2539e-03, 3.5000e+00],\n",
      "        [6.2388e-01, 0.0000e+00, 9.5000e+00],\n",
      "        [4.6247e-01, 2.9777e-02, 1.0000e+00],\n",
      "        [3.2383e-01, 8.5077e-03, 4.5000e+00],\n",
      "        [6.2388e-01, 4.2539e-03, 5.6667e+00]])\n",
      "tensor([0, 0, 0, 0])\n"
     ]
    }
   ],
   "source": [
    "print(dataset[0]['x'])\n",
    "print(dataset[0]['edge_index'])\n",
    "print(dataset[0]['edge_attr'])\n",
    "print(dataset[0]['y'])"
   ]
  },
  {
   "cell_type": "code",
   "execution_count": 43,
   "metadata": {},
   "outputs": [],
   "source": [
    "def check_dataset_for_nonetype(dataset):\n",
    "    total_entries = len(dataset)\n",
    "    none_count = 0\n",
    "    none_indices = []\n",
    "\n",
    "    for idx in range(total_entries):\n",
    "        try:\n",
    "            data = dataset[idx]\n",
    "        except Exception as e:\n",
    "            none_count += 1\n",
    "            none_indices.append(idx)\n",
    "            print(f\"Error at index {idx}: {e}\")\n",
    "\n",
    "    print(f\"Total dataset entries: {total_entries}\")\n",
    "    print(f\"Total NoneType errors: {none_count}\")\n",
    "    print(f\"Indices with NoneType errors: {none_indices}\")"
   ]
  },
  {
   "cell_type": "code",
   "execution_count": 83,
   "metadata": {},
   "outputs": [
    {
     "name": "stdout",
     "output_type": "stream",
     "text": [
      "Total dataset entries: 183\n",
      "Total NoneType errors: 0\n",
      "Indices with NoneType errors: []\n"
     ]
    }
   ],
   "source": [
    "check_dataset_for_nonetype(dataset)"
   ]
  },
  {
   "cell_type": "code",
   "execution_count": 91,
   "metadata": {},
   "outputs": [
    {
     "name": "stdout",
     "output_type": "stream",
     "text": [
      "Data(x=[4, 12], edge_index=[2, 12], edge_attr=[12, 3], y=[4])\n"
     ]
    }
   ],
   "source": [
    "data = dataset[0]\n",
    "print(data)"
   ]
  },
  {
   "cell_type": "markdown",
   "metadata": {},
   "source": [
    "Below we specify the architecture for the model. \n",
    "\n",
    "GNN's are trained through an iterative message passing process that progressivley defines the state of a graph by considering how the features of each node's neighbors deermine its behavior. Each iteration includes in a node's characterization aspects of more distant nodes. A large number of iterations risks creating a homogenous collection of node embeddings, as each node ends up considering all other nodes in its characterization. Thus, we must define the depth of this iterative process in reference to the graphs overall node density. Our \"Conversational Graphs\" are extremley dense given each pariticiapnt has a directed node aimed at every other. Consequently, we will have an extremley shallow iterative process with a single degree of depth. \n"
   ]
  },
  {
   "cell_type": "code",
   "execution_count": 85,
   "metadata": {},
   "outputs": [],
   "source": [
    "import torch.nn as nn\n",
    "from torch_geometric.nn import GCNConv, GATConv\n",
    "from torch_geometric.loader import DataLoader\n",
    "import torch.nn.functional as F\n",
    "import random\n",
    "\n",
    "NUM_EDGE_FEATURES = 3\n",
    "NUM_NODE_FEATURES = 12"
   ]
  },
  {
   "cell_type": "markdown",
   "metadata": {},
   "source": [
    "Below we have two layer model and a one layer model. The two layers model has been unable to provide accurate clasisfcations for both sex and native language. I predict this is because the two layers are leading to oversmoothing in the iterative message passing process. "
   ]
  },
  {
   "cell_type": "code",
   "execution_count": 33,
   "metadata": {},
   "outputs": [],
   "source": [
    "class ConversationModel_2Layer(torch.nn.Module):\n",
    "    def __init__(self, num_features=NUM_NODE_FEATURES, hidden_size=32, target_size=1):\n",
    "        super().__init__()\n",
    "        self.hidden_size = hidden_size\n",
    "        self.num_features = num_features\n",
    "        self.target_size = target_size\n",
    "        self.convs = [GATConv(self.num_features, self.hidden_size, edge_dim = NUM_EDGE_FEATURES),\n",
    "                      GATConv(self.hidden_size, self.hidden_size, edge_dim = NUM_EDGE_FEATURES)]\n",
    "        self.linear = nn.Linear(self.hidden_size, self.target_size)\n",
    "\n",
    "    def forward(self, data):\n",
    "        x, edge_index, edge_attr = data.x, data.edge_index, data.edge_attr\n",
    "        for conv in self.convs[:-1]:\n",
    "            x = conv(x, edge_index, edge_attr=edge_attr) \n",
    "            x = F.relu(x)\n",
    "            x = F.dropout(x, training=self.training)\n",
    "        x = self.convs[-1](x, edge_index, edge_attr=edge_attr)\n",
    "        x = self.linear(x)\n",
    "\n",
    "        return F.sigmoid(x) "
   ]
  },
  {
   "cell_type": "code",
   "execution_count": 100,
   "metadata": {},
   "outputs": [],
   "source": [
    "class ConversationModel_1layer(torch.nn.Module):\n",
    "    def __init__(self, num_features = NUM_NODE_FEATURES, hidden_size=32, target_size=1, dropout=0.5):\n",
    "        super(ConversationModel_1layer, self).__init__()\n",
    "        self.hidden_size = hidden_size\n",
    "        self.num_features = num_features\n",
    "        self.target_size = target_size\n",
    "        self.dropout = dropout\n",
    "        \n",
    "        self.conv1 = GATConv(self.num_features, self.hidden_size, edge_dim=NUM_EDGE_FEATURES)\n",
    "        self.linear = nn.Linear(self.hidden_size, self.target_size)\n",
    "\n",
    "    def forward(self, data):\n",
    "        x, edge_index, edge_attr = data.x, data.edge_index, data.edge_attr\n",
    "        x = self.conv1(x, edge_index, edge_attr=edge_attr)\n",
    "        x = F.relu(x)\n",
    "        x = F.dropout(x, p=self.dropout, training=self.training)\n",
    "        x = self.linear(x)\n",
    "\n",
    "        return torch.sigmoid(x)\n"
   ]
  },
  {
   "cell_type": "code",
   "execution_count": 93,
   "metadata": {},
   "outputs": [],
   "source": [
    "import torch\n",
    "from torch.utils.data import random_split\n",
    "from torch_geometric.loader import DataLoader\n",
    "\n",
    "# Define split\n",
    "total_size = len(dataset)\n",
    "train_size = int(0.7 * total_size)  # 70% for training\n",
    "val_size = int(0.1 * total_size)    # 10% for validation\n",
    "test_size = total_size - train_size - val_size  # 20% for testing\n",
    "\n",
    "data_train, data_val, data_test = random_split(dataset, [train_size, val_size, test_size])"
   ]
  },
  {
   "cell_type": "code",
   "execution_count": 94,
   "metadata": {},
   "outputs": [
    {
     "name": "stdout",
     "output_type": "stream",
     "text": [
      "Training label distribution: [319 193]\n"
     ]
    }
   ],
   "source": [
    "import numpy as np\n",
    "\n",
    "# Check the distribution \n",
    "train_labels = []\n",
    "for data in data_train:\n",
    "    train_labels.extend(data.y.cpu().numpy())\n",
    "train_labels = np.array(train_labels)\n",
    "print(\"Training label distribution:\", np.bincount(train_labels))"
   ]
  },
  {
   "cell_type": "markdown",
   "metadata": {},
   "source": [
    "We will now move on to model training where we first define epoch, learning rate, etc. parameteres. "
   ]
  },
  {
   "cell_type": "code",
   "execution_count": 159,
   "metadata": {},
   "outputs": [],
   "source": [
    "hyperparams = {\n",
    "    'batch_size' : 3, \n",
    "    'save_loss_interval' : 10, \n",
    "    'print_interval' : 25,\n",
    "    'n_epochs' : 500,\n",
    "    'learning_rate' : 0.0005\n",
    "}"
   ]
  },
  {
   "cell_type": "code",
   "execution_count": 136,
   "metadata": {},
   "outputs": [],
   "source": [
    "def evaluate_model(model, data_iter):\n",
    "    model.eval()  # Set model to evaluation mode\n",
    "    total_loss = 0\n",
    "    with torch.no_grad():  \n",
    "        for data in data_iter:\n",
    "            out = model(data).squeeze(-1)  \n",
    "            loss = F.binary_cross_entropy_with_logits(out, data.y.float())  # Use BCE loss\n",
    "            total_loss += loss.item()  \n",
    "\n",
    "    # Normalize the total loss by the number of samples\n",
    "    return total_loss / len(data_iter)\n"
   ]
  },
  {
   "cell_type": "code",
   "execution_count": 164,
   "metadata": {},
   "outputs": [],
   "source": [
    "def train(model, name_prefix, hyperparams):\n",
    "    learning_rate = hyperparams['learning_rate']\n",
    "    batch_size = hyperparams['batch_size']\n",
    "    n_epochs = hyperparams['n_epochs']\n",
    "    save_loss_interval = hyperparams['save_loss_interval']\n",
    "    print_interval = hyperparams['print_interval']\n",
    "    patience = hyperparams.get('patience', 10)  \n",
    "\n",
    "    optimizer = torch.optim.AdamW(model.parameters(), lr=learning_rate)\n",
    "    loader = DataLoader(data_train, batch_size=batch_size, shuffle=True)\n",
    "    losses = []\n",
    "\n",
    "    best_val_loss = float('inf')\n",
    "    best_model = None\n",
    "    patience_counter = 0\n",
    "\n",
    "    for epoch in range(n_epochs):\n",
    "        epoch_loss = 0\n",
    "        model.train()\n",
    "        for data in loader:\n",
    "            optimizer.zero_grad()\n",
    "            out = model(data).squeeze(-1)  \n",
    "            loss = F.binary_cross_entropy(out, data.y.float())  \n",
    "            epoch_loss += loss.item() \n",
    "            loss.backward()\n",
    "            optimizer.step()\n",
    "\n",
    "        if epoch % save_loss_interval == 0:\n",
    "            val_loss = evaluate_model(model, data_val) / len(data_val)\n",
    "            train_loss = epoch_loss / len(loader.dataset)\n",
    "            if epoch % print_interval == 0:\n",
    "                print(f\"Epoch: {epoch} Train loss: {train_loss:.2e} Validation loss: {val_loss:.2e}\")\n",
    "            losses.append((epoch, train_loss, val_loss))\n",
    "\n",
    "            # Early stopping check\n",
    "            if val_loss < best_val_loss:\n",
    "                best_val_loss = val_loss\n",
    "                best_model = model.state_dict()  \n",
    "                patience_counter = 0  \n",
    "            else:\n",
    "                patience_counter += 1  \n",
    "\n",
    "            if patience_counter >= patience:\n",
    "                print(f\"Early stopping triggered after {epoch+1} epochs.\")\n",
    "                model.load_state_dict(best_model)  \n",
    "                break\n",
    "\n",
    "    # Return the best model and losses\n",
    "    return model, losses"
   ]
  },
  {
   "cell_type": "code",
   "execution_count": 160,
   "metadata": {},
   "outputs": [
    {
     "name": "stdout",
     "output_type": "stream",
     "text": [
      "Training model...\n",
      "Epoch: 0 Train loss: 2.28e-01 Validation loss: 4.58e-02\n",
      "Epoch: 50 Train loss: 2.17e-01 Validation loss: 4.44e-02\n",
      "Epoch: 100 Train loss: 2.11e-01 Validation loss: 4.41e-02\n",
      "Epoch: 150 Train loss: 1.94e-01 Validation loss: 4.38e-02\n",
      "Epoch: 200 Train loss: 1.75e-01 Validation loss: 4.29e-02\n",
      "Epoch: 250 Train loss: 1.64e-01 Validation loss: 4.24e-02\n",
      "Epoch: 300 Train loss: 1.55e-01 Validation loss: 4.17e-02\n",
      "Epoch: 350 Train loss: 1.46e-01 Validation loss: 4.17e-02\n",
      "Epoch: 400 Train loss: 1.46e-01 Validation loss: 4.09e-02\n",
      "Epoch: 450 Train loss: 1.43e-01 Validation loss: 4.10e-02\n"
     ]
    }
   ],
   "source": [
    "print(\"Training model...\")\n",
    "model = ConversationModel_1layer()\n",
    "model, model_loss_traj = train(model, \"model\", hyperparams)"
   ]
  },
  {
   "cell_type": "code",
   "execution_count": 161,
   "metadata": {},
   "outputs": [
    {
     "name": "stdout",
     "output_type": "stream",
     "text": [
      "Test Loss: 0.6793\n"
     ]
    }
   ],
   "source": [
    "model.eval()\n",
    "test_loss = evaluate_model(model, data_test)\n",
    "\n",
    "print(f\"Test Loss: {test_loss:.4f}\")"
   ]
  },
  {
   "cell_type": "code",
   "execution_count": 162,
   "metadata": {},
   "outputs": [
    {
     "name": "stdout",
     "output_type": "stream",
     "text": [
      "Optimal threshold: 0.6072\n",
      "Optimal F1 score: 0.7328\n",
      "Accuracy: 0.7635\n",
      "Precision: 0.7164\n",
      "Recall: 0.7500\n",
      "Final F1 Score: 0.7328\n"
     ]
    }
   ],
   "source": [
    "import numpy as np\n",
    "from sklearn.metrics import precision_recall_curve, f1_score, accuracy_score, precision_score, recall_score\n",
    "\n",
    "model.eval()\n",
    "\n",
    "all_probs = []\n",
    "all_labels = []\n",
    "\n",
    "with torch.no_grad(): \n",
    "    for data in data_test:\n",
    "        out = model(data).squeeze(-1)  \n",
    "        probs = torch.sigmoid(out)  \n",
    "        all_probs.append(probs.cpu().numpy())\n",
    "        all_labels.append(data.y.cpu().numpy())\n",
    "\n",
    "# Flatten lists \n",
    "all_probs = np.concatenate(all_probs, axis=0)\n",
    "all_labels = np.concatenate(all_labels, axis=0)\n",
    "\n",
    "# Calculate precision, recall, and thresholds\n",
    "precision, recall, thresholds = precision_recall_curve(all_labels, all_probs)\n",
    "\n",
    "f1_scores = 2 * (precision * recall) / (precision + recall)\n",
    "\n",
    "# Filter out NaN \n",
    "valid_idx = ~np.isnan(f1_scores)\n",
    "valid_f1_scores = f1_scores[valid_idx]\n",
    "valid_thresholds = thresholds[valid_idx[:-1]]  \n",
    "\n",
    "# Find the threshold that maximizes the valid F1 score\n",
    "optimal_idx = np.argmax(valid_f1_scores)\n",
    "optimal_threshold = valid_thresholds[optimal_idx]\n",
    "optimal_f1 = valid_f1_scores[optimal_idx]\n",
    "\n",
    "print(f\"Optimal threshold: {optimal_threshold:.4f}\")\n",
    "print(f\"Optimal F1 score: {optimal_f1:.4f}\")\n",
    "\n",
    "# Evaluate model using the optimal threshold\n",
    "preds = (all_probs >= optimal_threshold).astype(int)\n",
    "\n",
    "# Now calculate the final evaluation metrics based on this threshold\n",
    "accuracy = accuracy_score(all_labels, preds)\n",
    "precision = precision_score(all_labels, preds, zero_division=0)  \n",
    "recall = recall_score(all_labels, preds, zero_division=0)  \n",
    "f1 = f1_score(all_labels, preds, zero_division=0)  \n",
    "\n",
    "print(f\"Accuracy: {accuracy:.4f}\")\n",
    "print(f\"Precision: {precision:.4f}\")\n",
    "print(f\"Recall: {recall:.4f}\")\n",
    "print(f\"Final F1 Score: {f1:.4f}\")"
   ]
  },
  {
   "cell_type": "code",
   "execution_count": 163,
   "metadata": {},
   "outputs": [
    {
     "data": {
      "image/png": "[encoded data removed]",
      "text/plain": [
       "<Figure size 640x480 with 2 Axes>"
      ]
     },
     "metadata": {},
     "output_type": "display_data"
    }
   ],
   "source": [
    "from sklearn.metrics import confusion_matrix\n",
    "import seaborn as sns\n",
    "import matplotlib.pyplot as plt\n",
    "\n",
    "cm = confusion_matrix(all_labels, preds)\n",
    "sns.heatmap(cm, annot=True, fmt='d', cmap='Blues', xticklabels=['Class 0', 'Class 1'], yticklabels=['Class 0', 'Class 1'])\n",
    "plt.xlabel('Predicted')\n",
    "plt.ylabel('Actual')\n",
    "plt.show()"
   ]
  },
  {
   "cell_type": "markdown",
   "metadata": {},
   "source": [
    "Overall, the results are quite promising. The GNN used succesfully employed edge features through GAT's to distinguish Native form Non-Native meeting participants with an accuracy close to 80%. Recognizing that only one layer of convolution was necessary for a fully connected graph, incorporating a dropout layer in training, and finding the optimal sigmoid threshold to split classification all contibuted to the result. Further improvements should include k-fold validation as was done for graph level predicitons. "
   ]
  }
 ],
 "metadata": {
  "kernelspec": {
   "display_name": "transcriptionEnv",
   "language": "python",
   "name": "python3"
  },
  "language_info": {
   "codemirror_mode": {
    "name": "ipython",
    "version": 3
   },
   "file_extension": ".py",
   "mimetype": "text/x-python",
   "name": "python",
   "nbconvert_exporter": "python",
   "pygments_lexer": "ipython3",
   "version": "3.9.16"
  }
 },
 "nbformat": 4,
 "nbformat_minor": 2
}
