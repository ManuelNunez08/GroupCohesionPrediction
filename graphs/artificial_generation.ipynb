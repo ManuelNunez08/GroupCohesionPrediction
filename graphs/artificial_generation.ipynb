{
 "cells": [
  {
   "cell_type": "code",
   "execution_count": 81,
   "metadata": {},
   "outputs": [],
   "source": [
    "import pandas as pd \n",
    "import numpy as np\n",
    "import pickle\n",
    "import matplotlib as plt\n",
    "import random "
   ]
  },
  {
   "cell_type": "markdown",
   "metadata": {},
   "source": [
    "Below we artifically generate data by doing the following: \n",
    "1. Take all 2 minute segments with an acceptable kappa score \n",
    "2. Reserve a testing set (30 samples minimum). This will prevent data leakage. \n",
    "3. For both edges (12 per meeting) and nodes (4 per meeting):\n",
    "    1. Fit remaning data using a GMM finding the number of components that maximize the suilhouette score. \n",
    "    2. Assign each sample a profile number, based on what component it corresponds to.\n",
    "    3. Generate an additional GMM for each edge/node profile to sample from. \n",
    "4. Group Samples by meeting and start time, such that each group contains 12 edges and 4 nodes. \n",
    "5. Regenerate each group n times by randomly sampling each generates node/edge from its corresponding profile's GMM. \n",
    "6. Finalize training/validation set by combining artifically generated meetings with real ones. Append a \"Generated ID\" to identify \n",
    "Generated meetings and assign higher weaits or apply further data processing if need be. \n"
   ]
  },
  {
   "cell_type": "markdown",
   "metadata": {},
   "source": [
    "Lets first read in the graph data"
   ]
  },
  {
   "cell_type": "code",
   "execution_count": 82,
   "metadata": {},
   "outputs": [
    {
     "name": "stdout",
     "output_type": "stream",
     "text": [
      "Number of meetings graphs: 1978\n"
     ]
    }
   ],
   "source": [
    "with open('data/graphs_cohesion_data_generation.pkl', 'rb') as f:\n",
    "    graphs_cohesion_data = pickle.load(f)\n",
    "\n",
    "print(f'Number of meetings graphs: {len(graphs_cohesion_data)}')\n"
   ]
  },
  {
   "cell_type": "markdown",
   "metadata": {},
   "source": [
    "Lets now read in cohesion annotation data for both questions and categories"
   ]
  },
  {
   "cell_type": "code",
   "execution_count": 83,
   "metadata": {},
   "outputs": [
    {
     "name": "stdout",
     "output_type": "stream",
     "text": [
      "Number of segments annotated for cohesion categories:  120\n"
     ]
    }
   ],
   "source": [
    "category_level_df = pd.read_pickle(\"../Cohesion_Annotations/Cohesion_split_data.pkl\")\n",
    "category_level_df['Start'] = category_level_df['Start'] * 60\n",
    "category_level_df['End'] = category_level_df['End'] * 60\n",
    "print('Number of segments annotated for cohesion categories: ', len(category_level_df))"
   ]
  },
  {
   "cell_type": "code",
   "execution_count": 84,
   "metadata": {},
   "outputs": [
    {
     "name": "stdout",
     "output_type": "stream",
     "text": [
      "Number of segments annotated for cohesion questions:  120\n"
     ]
    }
   ],
   "source": [
    "question_level_df = pd.read_pickle(\"../Cohesion_Annotations/Question_split_data.pkl\")\n",
    "question_level_df['Start'] = question_level_df['Start'] * 60\n",
    "question_level_df['End'] = question_level_df['End'] * 60\n",
    "print('Number of segments annotated for cohesion questions: ', len(question_level_df))"
   ]
  },
  {
   "cell_type": "markdown",
   "metadata": {},
   "source": [
    "Lets join both datasets for simpliccity managing it"
   ]
  },
  {
   "cell_type": "code",
   "execution_count": 85,
   "metadata": {},
   "outputs": [
    {
     "name": "stdout",
     "output_type": "stream",
     "text": [
      "Number of question/cohesion rows (should be 120): 120\n"
     ]
    }
   ],
   "source": [
    "# Perform a left join on 'meeting' and 'start' columns to merge category_level_df into node_df\n",
    "annotations_df = pd.merge(category_level_df, question_level_df, \n",
    "                on=['Meeting', 'Start', 'End'], how='inner')\n",
    "print(\"Number of question/cohesion rows (should be 120):\", len(annotations_df))\n"
   ]
  },
  {
   "cell_type": "markdown",
   "metadata": {},
   "source": [
    "ok, now that we have the annotations data consolidated lets, first write a function that uses this data, a category/question paraeter, and a roof annd ceiling, to set aside testing and training data. "
   ]
  },
  {
   "cell_type": "code",
   "execution_count": 86,
   "metadata": {},
   "outputs": [],
   "source": [
    "def get_test_train_split(category_kappa=(None, None), question_std=(None, None), minimum_high_score=4.5, maximum_low_score=3.5):\n",
    "    # first we filter out entries in the data frame and assign binary labels\n",
    "    filtered_df = annotations_df.copy()\n",
    "\n",
    "    if category_kappa != (None, None):\n",
    "        filtered_df = filtered_df[((filtered_df[f'{category_kappa[0]}_Average'] >= minimum_high_score) | (filtered_df[f'{category_kappa[0]}_Average'] < maximum_low_score)) \n",
    "                    & (filtered_df[f'{category_kappa[0]}_Kappa'] >= category_kappa[1])]\n",
    "        \n",
    "        #  lets now assign binary labels \n",
    "        filtered_df['binary_label'] = np.where(filtered_df[f'{category_kappa[0]}_Average'] < maximum_low_score, 0, \n",
    "                                        np.where(filtered_df[f'{category_kappa[0]}_Average'] >= minimum_high_score, 1, np.nan))\n",
    "        \n",
    "    elif question_std != (None, None): \n",
    "        filtered_df = filtered_df[((filtered_df[f'{question_std[0]}_mean'] >= minimum_high_score) | (filtered_df[f'{question_std[0]}_mean'] < maximum_low_score)) \n",
    "                    & (filtered_df[f'{question_std[0]}_std'] <= question_std[1])]\n",
    "        #  lets now assign binary labels \n",
    "        filtered_df['binary_label'] = np.where(filtered_df[f'{question_std[0]}_mean'] < maximum_low_score, 0, \n",
    "                                        np.where(filtered_df[f'{question_std[0]}_mean'] >= minimum_high_score, 1, np.nan))\n",
    "    else:\n",
    "        print(\"please enter df parameters.\")\n",
    "        return\n",
    "    \n",
    "\n",
    "    # Split graphs into graphs_within_constraints and other_graphs based on meeting and start time in the same row of filtered_df\n",
    "    graphs_within_constraints = []\n",
    "    for graph in graphs_cohesion_data:\n",
    "        matching_row = filtered_df[(filtered_df['Meeting'] == graph['meeting']) & (filtered_df['Start'] == graph['start'])]\n",
    "        if not matching_row.empty:\n",
    "            graph['score'] = matching_row['binary_label'].values[0]  # Assign binary label as score\n",
    "            graphs_within_constraints.append(graph)\n",
    "    \n",
    "    other_graphs = [graph for graph in graphs_cohesion_data if graph not in graphs_within_constraints]\n",
    "\n",
    "\n",
    "    # Randomly split other_graphs into testing and training_base\n",
    "    random.shuffle(graphs_within_constraints)\n",
    "    split_index = int(len(graphs_within_constraints) * 0.7) \n",
    "    training_base = graphs_within_constraints[:split_index]\n",
    "    testing = graphs_within_constraints[split_index:]\n",
    "\n",
    "    print(f'Binary Label Distribution Testing: ')\n",
    "    print(f'Number of 1s: {len([test for test in testing if test[\"score\"] == 1])}')\n",
    "    print(f'Number of 0s: {len([test for test in testing if test[\"score\"] == 0])} \\n')\n",
    "\n",
    "    print(f'Binary Label Distribution Training_base: ')\n",
    "    print(f'Number of 1s: {len([train for train in training_base if train[\"score\"] == 1])}')\n",
    "    print(f'Number of 0s: {len([train for train in training_base if train[\"score\"] == 0])} \\n')\n",
    "    \n",
    "\n",
    "\n",
    "    # Combine other_graphs with training_base to create list of graphs used to identify deifferent node/edge profiles. \n",
    "    GMM_data = training_base + other_graphs\n",
    "\n",
    "    # Return testing, distribution_base, and filtered_df\n",
    "    return testing, training_base, GMM_data, filtered_df\n",
    "    \n",
    "    \n"
   ]
  },
  {
   "cell_type": "code",
   "execution_count": 87,
   "metadata": {},
   "outputs": [],
   "source": [
    "def graph_nodes_df_convert(graphs):\n",
    "    rows = []\n",
    "    # Iterate through each data point\n",
    "    for item in graphs:\n",
    "        meeting = item['meeting']\n",
    "        start_time = item['start']\n",
    "        features = item['features'][0]  # Only node features, ignoring edge features\n",
    "        \n",
    "        # For each speaker, we will create a row in the final dataframe\n",
    "        for speaker, speaker_features in features.items():\n",
    "            row = {'Meeting': meeting, 'Start': start_time, 'speaker': speaker}\n",
    "            for feature_name, value in speaker_features:\n",
    "                row[feature_name] = value\n",
    "            rows.append(row)\n",
    "\n",
    "    # Create a dataframe from the list of rows\n",
    "    node_df = pd.DataFrame(rows)\n",
    "    return node_df"
   ]
  },
  {
   "cell_type": "code",
   "execution_count": 88,
   "metadata": {},
   "outputs": [],
   "source": [
    "import pandas as pd\n",
    "\n",
    "def graph_edges_df_convert(graphs):\n",
    "    # Prepare an empty list to store each edge's data as a row\n",
    "    edge_rows = []\n",
    "\n",
    "    # Iterate through each meeting in the data\n",
    "    for item in graphs:\n",
    "        meeting = item['meeting']\n",
    "        start_time = item['start']\n",
    "        edge_features = item['features'][1]  # Only edge features, ignoring node features\n",
    "        \n",
    "        # For each edge (e.g., 'A,B'), extract the speaker and target, along with the features\n",
    "        for edge, features in edge_features.items():\n",
    "            speaker, speaker_target = edge.split(',')  # Split the edge identifier to get speaker and target\n",
    "            \n",
    "            # Create a row for this edge with the 3 edge features\n",
    "            row = {\n",
    "                'Meeting': meeting,\n",
    "                'Start': start_time,\n",
    "                'speaker': speaker,\n",
    "                'speaker_target': speaker_target\n",
    "            }\n",
    "            \n",
    "            # Add the 3 edge features to the row\n",
    "            for feature_name, value in features:\n",
    "                row[feature_name] = value\n",
    "            \n",
    "            edge_rows.append(row)\n",
    "\n",
    "    # Create a DataFrame from the list of edge rows\n",
    "    edge_df = pd.DataFrame(edge_rows)\n",
    "\n",
    "    return edge_df\n"
   ]
  },
  {
   "cell_type": "code",
   "execution_count": 89,
   "metadata": {},
   "outputs": [],
   "source": [
    "from sklearn.mixture import GaussianMixture\n",
    "from sklearn.metrics import silhouette_score\n",
    "\n",
    "node_features_columns = [\n",
    "        'time_portion', 'speaking_turns_proportion', 'rate_of_speech', 'lexical_richness',\n",
    "        'positive_sentiment_proportion', 'negative_sentiment_proportion', 'average_word_rarity',\n",
    "        'first_person_pronoun_usage', 'second_person_pronoun_usage', 'third_person_pronoun_usage',\n",
    "        'agreement_words_proportion', 'disagreement_words_proportion'\n",
    "    ]\n",
    "\n",
    "def get_node_GMM(node_df):\n",
    "# Assuming df is the DataFrame you have, with all the speaker features\n",
    "# List of feature columns that are numeric and relevant for GMM\n",
    "\n",
    "    best_score = -1.0\n",
    "    best_nodes_gmm = None\n",
    "    best_profiles = None\n",
    "\n",
    "    # Extract the feature values from the dataframe\n",
    "    X_nodes = node_df[node_features_columns].values\n",
    "\n",
    "    for i in range(2,6):\n",
    "\n",
    "        # Fit a Gaussian Mixture Model (GMM) to the speaker features\n",
    "        gmm_nodes = GaussianMixture(n_components=i)  \n",
    "        gmm_nodes.fit(X_nodes)\n",
    "\n",
    "        # Predict the profile for each speaker based on the features\n",
    "        profiles_nodes = gmm_nodes.predict(X_nodes)\n",
    "\n",
    "        # Calculate silhouette score\n",
    "        score = silhouette_score(X_nodes, profiles_nodes)\n",
    "\n",
    "        if score > best_score:\n",
    "            best_nodes_gmm = gmm_nodes\n",
    "            best_score = score\n",
    "            best_profiles = profiles_nodes\n",
    "\n",
    "    print(f\"Best Silhouette Score for node features: {best_score}\")\n",
    "    # set profiles before returning \n",
    "    node_df['profile'] = best_profiles\n",
    "    return best_nodes_gmm\n",
    "\n"
   ]
  },
  {
   "cell_type": "code",
   "execution_count": 90,
   "metadata": {},
   "outputs": [],
   "source": [
    "\n",
    "edge_features_columns = ['LSM', 'interruptions', 'average_turns_between']\n",
    "\n",
    "def get_edge_GMM(edge_df):\n",
    "\n",
    "    best_score = -1.0\n",
    "    best_edges_gmm = None\n",
    "    best_profiles = None\n",
    "\n",
    "    # Extract the feature values from the dataframe\n",
    "    X_edges = edge_df[edge_features_columns].values\n",
    "\n",
    "    for i in range(2,6):\n",
    "\n",
    "        # Fit a Gaussian Mixture Model (GMM) to the speaker features\n",
    "        gmm_edges = GaussianMixture(n_components=i)  # You can adjust the n_components for the number of profiles\n",
    "        gmm_edges.fit(X_edges)\n",
    "\n",
    "        # Predict the profile for each speaker based on the features\n",
    "        edge_profiles = gmm_edges.predict(X_edges)\n",
    "\n",
    "        # Calculate silhouette score\n",
    "        score= silhouette_score(X_edges, edge_profiles)\n",
    "\n",
    "        if score > best_score:\n",
    "            best_edges_gmm = gmm_edges\n",
    "            best_score = score\n",
    "            best_profiles = edge_profiles\n",
    "\n",
    "    print(f\"Best Silhouette Score for edge features: {best_score}\")\n",
    "    # set profiles before returning \n",
    "    edge_df['profile'] = best_profiles\n",
    "    return best_edges_gmm"
   ]
  },
  {
   "cell_type": "code",
   "execution_count": 91,
   "metadata": {},
   "outputs": [],
   "source": [
    "import matplotlib.pyplot as plt\n",
    "def plot_label_hist(df):\n",
    "    # Assuming 'profile' is the column in the dataframe that contains the profile assignments\n",
    "    # Plotting the histogram\n",
    "    plt.figure(figsize=(8, 6))  # Adjust the figure size as needed\n",
    "    df['profile'].value_counts().sort_index().plot(kind='bar', color='skyblue')\n",
    "\n",
    "    # Adding title and labels\n",
    "    plt.title('Frequency of Profiles', fontsize=16)\n",
    "    plt.xlabel('Profile', fontsize=14)\n",
    "    plt.ylabel('Frequency', fontsize=14)\n",
    "\n",
    "    # Display the plot\n",
    "    plt.show()"
   ]
  },
  {
   "cell_type": "markdown",
   "metadata": {},
   "source": [
    "below we define the group of graphs used to:\n",
    "- Generate artifical data (distribution_base), \n",
    "- Test the model (training data)\n",
    "\n",
    "We also keep the filtered data containing all meetings that fit within user parameters (will be used later)\n",
    "\n",
    "We convert the edge and node features from the ditribution base into dfs for easier handling and define the optiamal GMM profiles for each. \n",
    "Lastly we generate distributions for each. "
   ]
  },
  {
   "cell_type": "code",
   "execution_count": 92,
   "metadata": {},
   "outputs": [
    {
     "name": "stdout",
     "output_type": "stream",
     "text": [
      "Binary Label Distribution Testing: \n",
      "Number of 1s: 8\n",
      "Number of 0s: 6 \n",
      "\n",
      "Binary Label Distribution Training_base: \n",
      "Number of 1s: 23\n",
      "Number of 0s: 9 \n",
      "\n",
      "Size of GMM_data (training_base + non_annotated_data):  1964\n",
      "Best Silhouette Score for node features: 0.34639616131684253\n",
      "Best Silhouette Score for edge features: 0.11392629940312596\n",
      "\n",
      "Node Feature Profile Distributions:\n"
     ]
    },
    {
     "data": {
      "image/png": "[encoded data removed]",
      "text/plain": [
       "<Figure size 800x600 with 1 Axes>"
      ]
     },
     "metadata": {},
     "output_type": "display_data"
    },
    {
     "name": "stdout",
     "output_type": "stream",
     "text": [
      "Edgee Feature Profile Distributions:\n"
     ]
    },
    {
     "data": {
      "image/png": "[encoded data removed]",
      "text/plain": [
       "<Figure size 800x600 with 1 Axes>"
      ]
     },
     "metadata": {},
     "output_type": "display_data"
    }
   ],
   "source": [
    "testing, training_base, GMM_data, filtered_df = get_test_train_split(category_kappa=('Cohesion', 0.2), maximum_low_score=3.5, minimum_high_score=5)\n",
    "print('Size of GMM_data (training_base + non_annotated_data): ', len(GMM_data))\n",
    "# save training and testing base separatley \n",
    "# Assuming 'graphs' is your list of graph data\n",
    "with open('data/graphs_cohesion_data_training_base.pkl', 'wb') as f:\n",
    "    pickle.dump(training_base, f)\n",
    "with open('data/graphs_cohesion_data_testing.pkl', 'wb') as f:\n",
    "    pickle.dump(testing, f)\n",
    "\n",
    "node_df = graph_nodes_df_convert(GMM_data)\n",
    "edge_df = graph_edges_df_convert(GMM_data)\n",
    "node_gmm = get_node_GMM(node_df)\n",
    "edge_gmm = get_edge_GMM(edge_df)\n",
    "print(\"\\nNode Feature Profile Distributions:\")\n",
    "plot_label_hist(node_df)\n",
    "print(\"Edgee Feature Profile Distributions:\")\n",
    "plot_label_hist(edge_df)"
   ]
  },
  {
   "cell_type": "code",
   "execution_count": 93,
   "metadata": {},
   "outputs": [],
   "source": [
    "def merge_nodes_edges_with_labels(node_df, edge_df, filtered_df): \n",
    "    node_df = pd.merge(node_df, filtered_df[['Meeting', 'Start', 'binary_label']], \n",
    "                    on=['Meeting', 'Start'], how='inner')\n",
    "    edge_df = pd.merge(edge_df, filtered_df[['Meeting', 'Start', 'binary_label']], \n",
    "                    on=['Meeting', 'Start'], how='inner')\n",
    "    \n",
    "    return node_df, edge_df"
   ]
  },
  {
   "cell_type": "code",
   "execution_count": 94,
   "metadata": {},
   "outputs": [
    {
     "name": "stdout",
     "output_type": "stream",
     "text": [
      "Length of node_df (should equal 128): 128\n",
      "Length of edge_df (should equal 384): 384\n"
     ]
    }
   ],
   "source": [
    "node_df, edge_df = merge_nodes_edges_with_labels(node_df, edge_df, filtered_df)\n",
    "print(f'Length of node_df (should equal {len(training_base) * 4}): {len(node_df)}')\n",
    "print(f'Length of edge_df (should equal {len(training_base) * 12}): {len(edge_df)}')"
   ]
  },
  {
   "cell_type": "markdown",
   "metadata": {},
   "source": [
    "Very promising stuff. There are in fact different node profiles depending on cohesion levels, so i should be able to succesfully sample. "
   ]
  },
  {
   "cell_type": "code",
   "execution_count": 95,
   "metadata": {},
   "outputs": [
    {
     "name": "stdout",
     "output_type": "stream",
     "text": [
      "Number of low-cohesion nodes:  36\n"
     ]
    },
    {
     "data": {
      "image/png": "[encoded data removed]",
      "text/plain": [
       "<Figure size 800x600 with 1 Axes>"
      ]
     },
     "metadata": {},
     "output_type": "display_data"
    },
    {
     "name": "stdout",
     "output_type": "stream",
     "text": [
      "Number of high-cohesion nodes:  92\n"
     ]
    },
    {
     "data": {
      "image/png": "[encoded data removed]",
      "text/plain": [
       "<Figure size 800x600 with 1 Axes>"
      ]
     },
     "metadata": {},
     "output_type": "display_data"
    }
   ],
   "source": [
    "node_df_low = node_df[node_df['binary_label'] == 0.0]\n",
    "node_df_high = node_df[node_df['binary_label'] == 1.0]\n",
    "print('Number of low-cohesion nodes: ', len(node_df_low))\n",
    "plot_label_hist(node_df_low)\n",
    "print('Number of high-cohesion nodes: ', len(node_df_high))\n",
    "plot_label_hist(node_df_high)"
   ]
  },
  {
   "cell_type": "markdown",
   "metadata": {},
   "source": [
    "Edges also seem to show different profile distributions dependning on degree of cohesion "
   ]
  },
  {
   "cell_type": "code",
   "execution_count": 96,
   "metadata": {},
   "outputs": [
    {
     "name": "stdout",
     "output_type": "stream",
     "text": [
      "Number of low-cohesion edges:  108\n"
     ]
    },
    {
     "data": {
      "image/png": "[encoded data removed]",
      "text/plain": [
       "<Figure size 800x600 with 1 Axes>"
      ]
     },
     "metadata": {},
     "output_type": "display_data"
    },
    {
     "name": "stdout",
     "output_type": "stream",
     "text": [
      "Number of high-cohesion edges:  276\n"
     ]
    },
    {
     "data": {
      "image/png": "[encoded data removed]",
      "text/plain": [
       "<Figure size 800x600 with 1 Axes>"
      ]
     },
     "metadata": {},
     "output_type": "display_data"
    }
   ],
   "source": [
    "edge_df_low = edge_df[edge_df['binary_label'] == 0.0]\n",
    "edge_df_high = edge_df[edge_df['binary_label'] == 1.0]\n",
    "\n",
    "print('Number of low-cohesion edges: ', len(edge_df_low))\n",
    "plot_label_hist(edge_df_low)\n",
    "print('Number of high-cohesion edges: ', len(edge_df_high))\n",
    "plot_label_hist(edge_df_high)"
   ]
  },
  {
   "cell_type": "markdown",
   "metadata": {},
   "source": [
    "Now lets generate a GM for each type of edge and node profile to sample from when genearting artifical samples. "
   ]
  },
  {
   "cell_type": "code",
   "execution_count": 97,
   "metadata": {},
   "outputs": [],
   "source": [
    "from sklearn.mixture import GaussianMixture\n",
    "\n",
    "\n",
    "gmm_nodes_by_profile = {}\n",
    "gmm_edges_by_profile = {}\n",
    "\n",
    "# --- Training GMMs for Node Profiles ---\n",
    "for profile in node_df['profile'].unique():\n",
    "    profile_node_df = node_df[node_df['profile'] == profile]\n",
    "    \n",
    "    # Extract the feature columns for GMM training\n",
    "    X_profile = profile_node_df[node_features_columns].values\n",
    "    gmm = GaussianMixture(n_components=1)\n",
    "    gmm.fit(X_profile)\n",
    "    gmm_nodes_by_profile[profile] = gmm\n",
    "\n",
    "# --- Training GMMs for Edge Profiles ---\n",
    "for profile in edge_df['profile'].unique():\n",
    "    profile_edge_df = edge_df[edge_df['profile'] == profile]\n",
    "    \n",
    "    # Extract the feature columns for GMM training\n",
    "    X_profile_edges = profile_edge_df[edge_features_columns].values \n",
    "    gmm = GaussianMixture(n_components=1)  \n",
    "    gmm.fit(X_profile_edges)\n",
    "    \n",
    "    # Store the GMM in the dictionary\n",
    "    gmm_edges_by_profile[profile] = gmm\n"
   ]
  },
  {
   "cell_type": "code",
   "execution_count": 98,
   "metadata": {},
   "outputs": [],
   "source": [
    "import pandas as pd\n",
    "import numpy as np\n",
    "\n",
    "def generate_samples(n_df, e_df, gmm_nodes_by_profile, gmm_edges_by_profile, num_samples=10):\n",
    "    generated_nodes = pd.DataFrame()\n",
    "    generated_edges = pd.DataFrame()\n",
    "\n",
    "    # Group the node_df by 'meeting' and 'start'\n",
    "    node_groups = n_df.groupby(['Meeting', 'Start'])\n",
    "    print('Number of Groups Being Used as Training Base: ', len(node_groups))\n",
    "\n",
    "    # Set initial generation number\n",
    "    generation_number = 1\n",
    "\n",
    "    for (meeting, start), node_group in node_groups:\n",
    "        node_group = node_group.reset_index(drop=True)\n",
    "        # Find the corresponding edge group in edge_df with the same 'meeting' and 'start'\n",
    "        edge_group = e_df[(e_df['Meeting'] == meeting) & (e_df['Start'] == start)]\n",
    "        edge_group = edge_group.reset_index(drop=True)\n",
    "        \n",
    "        if edge_group.empty:\n",
    "            continue  # Skip if no matching edge group is found\n",
    "        \n",
    "        # Generate nodes and edges based on their profile group\n",
    "        for _ in range(num_samples):  # Generate a specified number of samples (default 10)\n",
    "            # --- Generating node samples ---\n",
    "            node_sample = node_group.copy()\n",
    "\n",
    "            for j, profile in enumerate(node_sample['profile']):\n",
    "                # Use the GMM corresponding to the profile to generate new features\n",
    "                gmm_for_node_profile = gmm_nodes_by_profile[profile]  \n",
    "                # Generate new node features with randomness\n",
    "                new_node_features = gmm_for_node_profile.sample(1)[0]\n",
    "                # Apply a post-processing step to remove negative values\n",
    "                new_node_features = np.clip(new_node_features, 0, None)  # Set negative values to 0\n",
    "                # Replace node features in the sample DataFrame\n",
    "                node_sample.loc[j, node_features_columns] = new_node_features\n",
    "\n",
    "            # Assign a generation number to the node sample\n",
    "            node_sample['generation_number'] = generation_number\n",
    "            \n",
    "            # --- Generating edge samples ---\n",
    "            edge_sample = edge_group.copy()\n",
    "\n",
    "            for k, profile in enumerate(edge_sample['profile']):\n",
    "                # Use the GMM corresponding to the edge profile to generate new features\n",
    "                gmm_for_edge_profile = gmm_edges_by_profile[profile]  \n",
    "                # Generate new edge features with randomness\n",
    "                new_edge_features = gmm_for_edge_profile.sample(1)[0]  # Generate new edge features\n",
    "                # Apply a post-processing step to remove negative values\n",
    "                new_edge_features = np.clip(new_edge_features, 0, None)  # Set negative values to 0\n",
    "                # Replace edge features in the sample DataFrame\n",
    "                edge_sample.loc[k, edge_features_columns] = new_edge_features\n",
    "            # Assign a generation number to the edge sample\n",
    "            edge_sample['generation_number'] = generation_number\n",
    "\n",
    "            # Append the generated node and edge samples to the final DataFrames\n",
    "            generated_nodes = pd.concat([generated_nodes, node_sample], ignore_index=True)\n",
    "            generated_edges = pd.concat([generated_edges, edge_sample], ignore_index=True)\n",
    "            \n",
    "            # Increment the generation number\n",
    "            generation_number += 1\n",
    "\n",
    "    # Return the generated DataFrames\n",
    "    print(\"Number of Generated Nodes: \", len(generated_nodes))\n",
    "    print(\"Number of Generated Edges (Should be equal to Number of Nodes * 3): \", len(generated_edges))\n",
    "    return generated_nodes, generated_edges\n"
   ]
  },
  {
   "cell_type": "code",
   "execution_count": 99,
   "metadata": {},
   "outputs": [
    {
     "name": "stdout",
     "output_type": "stream",
     "text": [
      "Number of samples generated for each high-cohesion meeting: 20\n",
      "Number of samples generated for each low-cohesion meeting: 51\n"
     ]
    }
   ],
   "source": [
    "\n",
    "num_0s = len([train for train in training_base if train['score'] == 0.0])\n",
    "num_1s = len([train for train in training_base if train['score'] == 1.0])\n",
    "ratio_high_low = float(num_1s) / float(num_0s)\n",
    "\n",
    "num_samples_low = 20\n",
    "num_samples_high = 20\n",
    "if ratio_high_low > 1.0:\n",
    "    num_samples_low = int(num_samples_high * (ratio_high_low))\n",
    "elif ratio_high_low < 1.0:\n",
    "    num_samples_high = int((1/ratio_high_low) * (num_samples_low))\n",
    "\n",
    "print(\"Number of samples generated for each high-cohesion meeting:\", num_samples_high )\n",
    "print(\"Number of samples generated for each low-cohesion meeting:\", num_samples_low)"
   ]
  },
  {
   "cell_type": "code",
   "execution_count": 100,
   "metadata": {},
   "outputs": [
    {
     "name": "stdout",
     "output_type": "stream",
     "text": [
      "Number of Groups Being Used as Training Base:  23\n",
      "Number of Generated Nodes:  1840\n",
      "Number of Generated Edges (Should be equal to Number of Nodes * 3):  5520\n"
     ]
    }
   ],
   "source": [
    "high_cohesion_node_gen, high_cohesion_edge_gen = generate_samples(node_df_high, edge_df_high, gmm_nodes_by_profile, gmm_edges_by_profile, num_samples=num_samples_high )"
   ]
  },
  {
   "cell_type": "code",
   "execution_count": 101,
   "metadata": {},
   "outputs": [
    {
     "name": "stdout",
     "output_type": "stream",
     "text": [
      "Number of Groups Being Used as Training Base:  9\n",
      "Number of Generated Nodes:  1836\n",
      "Number of Generated Edges (Should be equal to Number of Nodes * 3):  5508\n"
     ]
    }
   ],
   "source": [
    "low_cohesion_node_gen, low_cohesion_edge_gen = generate_samples(node_df_low, edge_df_low, gmm_nodes_by_profile, gmm_edges_by_profile, num_samples=num_samples_low)"
   ]
  },
  {
   "cell_type": "markdown",
   "metadata": {},
   "source": [
    "lets now recreate the graphs in their original dictionary form "
   ]
  },
  {
   "cell_type": "code",
   "execution_count": 102,
   "metadata": {},
   "outputs": [
    {
     "name": "stdout",
     "output_type": "stream",
     "text": [
      "Number of Generated Graphs (Should be 919): 919\n"
     ]
    }
   ],
   "source": [
    "import pandas as pd\n",
    "\n",
    "def create_feature_list(node_df, edge_df):\n",
    "    feature_list = []\n",
    "\n",
    "    node_groups = node_df.groupby(['Meeting', 'Start', 'generation_number'])\n",
    "    \n",
    "    for (meeting, start, _), node_group in node_groups:\n",
    "        # Find the corresponding edge group\n",
    "        edge_group = edge_df[(edge_df['Meeting'] == meeting) & (edge_df['Start'] == start)]\n",
    "        \n",
    "        if edge_group.empty:\n",
    "            continue \n",
    "        \n",
    "        node_features = {}\n",
    "        edge_features = {}\n",
    "        # Iterate over the nodes (A, B, C, D)\n",
    "        for _, node_row in node_group.iterrows():\n",
    "            speaker = node_row['speaker']\n",
    "            features = [\n",
    "                ('time_portion', node_row['time_portion']),\n",
    "                ('speaking_turns_proportion', node_row['speaking_turns_proportion']),\n",
    "                ('rate_of_speech', node_row['rate_of_speech']),\n",
    "                ('lexical_richness', node_row['lexical_richness']),\n",
    "                ('positive_sentiment_proportion', node_row['positive_sentiment_proportion']),\n",
    "                ('negative_sentiment_proportion', node_row['negative_sentiment_proportion']),\n",
    "                ('average_word_rarity', node_row['average_word_rarity']),\n",
    "                ('first_person_pronoun_usage', node_row['first_person_pronoun_usage']),\n",
    "                ('second_person_pronoun_usage', node_row['second_person_pronoun_usage']),\n",
    "                ('third_person_pronoun_usage', node_row['third_person_pronoun_usage']),\n",
    "                ('agreement_words_proportion', node_row['agreement_words_proportion']),\n",
    "                ('disagreement_words_proportion', node_row['disagreement_words_proportion'])\n",
    "            ]\n",
    "            node_features[speaker] = features\n",
    "        \n",
    "        # Iterate over the edges and add the edge features\n",
    "        for _, edge_row in edge_group.iterrows():\n",
    "            speaker = edge_row['speaker']\n",
    "            speaker_target = edge_row['speaker_target']\n",
    "            edge_key = f'{speaker},{speaker_target}' \n",
    "            features = [\n",
    "                ('LSM', edge_row['LSM']),\n",
    "                ('interruptions', edge_row['interruptions']),\n",
    "                ('average_turns_between', edge_row['average_turns_between'])\n",
    "            ]\n",
    "            edge_features[edge_key] = features\n",
    "        \n",
    "        generation_id = node_group['generation_number'].iloc[0]  \n",
    "        cohesion_label_val = node_group['binary_label'].iloc[0]  \n",
    "        # Create the final dictionary for the current group\n",
    "        group_dict = {\n",
    "            'meeting': meeting,\n",
    "            'start': start,\n",
    "            'features': (node_features, edge_features),\n",
    "            'score': cohesion_label_val,\n",
    "            'generationID': generation_id\n",
    "        }\n",
    "        \n",
    "        feature_list.append(group_dict)\n",
    "    \n",
    "    return feature_list\n",
    "\n",
    "# Generate the feature lists for high and low cohesion\n",
    "high_cohesion_graphs = create_feature_list(high_cohesion_node_gen, high_cohesion_edge_gen)\n",
    "low_cohesion_graphs = create_feature_list(low_cohesion_node_gen, low_cohesion_edge_gen)\n",
    "\n",
    "combined_cohesion_graphs = high_cohesion_graphs + low_cohesion_graphs\n",
    "\n",
    "# Print the first element as an example\n",
    "print(f\"Number of Generated Graphs (Should be {(num_0s * num_samples_low) + (num_1s * num_samples_high)}): {len(combined_cohesion_graphs)}\")\n"
   ]
  },
  {
   "cell_type": "code",
   "execution_count": 103,
   "metadata": {},
   "outputs": [],
   "source": [
    "import pickle\n",
    "\n",
    "# Assuming 'graphs' is your list of graph data\n",
    "with open('data/graphs_cohesion_data_artificial_gen.pkl', 'wb') as f:\n",
    "    pickle.dump(combined_cohesion_graphs, f)"
   ]
  }
 ],
 "metadata": {
  "kernelspec": {
   "display_name": "EnvCohesionPrediction",
   "language": "python",
   "name": "python3"
  },
  "language_info": {
   "codemirror_mode": {
    "name": "ipython",
    "version": 3
   },
   "file_extension": ".py",
   "mimetype": "text/x-python",
   "name": "python",
   "nbconvert_exporter": "python",
   "pygments_lexer": "ipython3",
   "version": "3.9.16"
  }
 },
 "nbformat": 4,
 "nbformat_minor": 2
}
