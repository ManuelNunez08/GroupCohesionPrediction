{
 "cells": [
  {
   "cell_type": "code",
   "execution_count": 2,
   "id": "a7195ca0-459a-49bd-ae3c-1dd0c3466901",
   "metadata": {
    "tags": []
   },
   "outputs": [],
   "source": [
    "import pandas as pd "
   ]
  },
  {
   "cell_type": "code",
   "execution_count": 3,
   "id": "e5458034-d806-40fe-87f4-2c78014119a7",
   "metadata": {
    "tags": []
   },
   "outputs": [],
   "source": [
    "train_DailyDialog_df = pd.read_csv('../DailyDialog_DATA/train.csv')\n",
    "test_DailyDialog_df = pd.read_csv('../DailyDialog_DATA/test.csv')\n",
    "val_DailyDialog_df = pd.read_csv('../DailyDialog_DATA/validation.csv')"
   ]
  },
  {
   "cell_type": "code",
   "execution_count": 4,
   "id": "56753260-a3d1-4c08-9cb1-f6de29547b00",
   "metadata": {
    "tags": []
   },
   "outputs": [],
   "source": [
    "import re\n",
    "\n",
    "def clean_and_segment_dialog(dialog):\n",
    "    \"\"\"\n",
    "    Converts a string representation of a conversation into a list of individual turns.\n",
    "    Properly handles inconsistent quotes and segments each line into turns.\n",
    "    \"\"\"\n",
    "    # Remove newlines and strip leading/trailing whitespace\n",
    "    dialog = dialog.replace(\"\\n\", \" \").strip()\n",
    "    \n",
    "    # Remove the outer brackets if they exist\n",
    "    if dialog.startswith(\"[\") and dialog.endswith(\"]\"):\n",
    "        dialog = dialog[1:-1]\n",
    "    \n",
    "    # Use regex to find segments that are enclosed in quotes, which typically represent individual turns\n",
    "    turns = re.findall(r\"(?:'([^']+)'|\\\"([^\\\"]+)\\\")\", dialog)\n",
    "    \n",
    "    # Flatten the list of tuples and filter out empty strings\n",
    "    turns = [turn for group in turns for turn in group if turn]\n",
    "    \n",
    "    # Ensure each turn is stripped of leading/trailing spaces\n",
    "    turns = [turn.strip() for turn in turns]\n",
    "    \n",
    "    return turns\n"
   ]
  },
  {
   "cell_type": "code",
   "execution_count": 5,
   "id": "60787265-76a8-4c4d-8042-52a147c3dc50",
   "metadata": {
    "tags": []
   },
   "outputs": [],
   "source": [
    "# Apply the function to the 'dialog' column\n",
    "train_DailyDialog_df['dialog'] = train_DailyDialog_df['dialog'].apply(clean_and_segment_dialog)\n",
    "test_DailyDialog_df['dialog'] = test_DailyDialog_df['dialog'].apply(clean_and_segment_dialog)\n",
    "val_DailyDialog_df['dialog'] = val_DailyDialog_df['dialog'].apply(clean_and_segment_dialog)\n",
    "\n"
   ]
  },
  {
   "cell_type": "code",
   "execution_count": 6,
   "id": "969839c3-89a6-4db9-b84b-0c0ecf1dbd06",
   "metadata": {
    "tags": []
   },
   "outputs": [
    {
     "data": {
      "text/html": [
       "<div>\n",
       "<style scoped>\n",
       "    .dataframe tbody tr th:only-of-type {\n",
       "        vertical-align: middle;\n",
       "    }\n",
       "\n",
       "    .dataframe tbody tr th {\n",
       "        vertical-align: top;\n",
       "    }\n",
       "\n",
       "    .dataframe thead th {\n",
       "        text-align: right;\n",
       "    }\n",
       "</style>\n",
       "<table border=\"1\" class=\"dataframe\">\n",
       "  <thead>\n",
       "    <tr style=\"text-align: right;\">\n",
       "      <th></th>\n",
       "      <th>dialog</th>\n",
       "      <th>act</th>\n",
       "      <th>emotion</th>\n",
       "    </tr>\n",
       "  </thead>\n",
       "  <tbody>\n",
       "    <tr>\n",
       "      <th>0</th>\n",
       "      <td>[Say , Jim , how about going for a few beers a...</td>\n",
       "      <td>[3 4 2 2 2 3 4 1 3 4]</td>\n",
       "      <td>[0 0 0 0 0 0 4 4 4 4]</td>\n",
       "    </tr>\n",
       "    <tr>\n",
       "      <th>1</th>\n",
       "      <td>[Can you do push-ups ?, Of course I can . It's...</td>\n",
       "      <td>[2 1 2 2 1 1]</td>\n",
       "      <td>[0 0 6 0 0 0]</td>\n",
       "    </tr>\n",
       "    <tr>\n",
       "      <th>2</th>\n",
       "      <td>[Can you study with the radio on ?, No , I lis...</td>\n",
       "      <td>[2 1 2 1 1]</td>\n",
       "      <td>[0 0 0 0 0]</td>\n",
       "    </tr>\n",
       "    <tr>\n",
       "      <th>3</th>\n",
       "      <td>[Are you all right ?, I will be all right soon...</td>\n",
       "      <td>[2 1 1 1]</td>\n",
       "      <td>[0 0 0 0]</td>\n",
       "    </tr>\n",
       "    <tr>\n",
       "      <th>4</th>\n",
       "      <td>[Hey John , nice skates . Are they new ?, Yeah...</td>\n",
       "      <td>[2 1 2 1 1 2 1 3 4]</td>\n",
       "      <td>[0 0 0 0 0 6 0 6 0]</td>\n",
       "    </tr>\n",
       "  </tbody>\n",
       "</table>\n",
       "</div>"
      ],
      "text/plain": [
       "                                              dialog                    act  \\\n",
       "0  [Say , Jim , how about going for a few beers a...  [3 4 2 2 2 3 4 1 3 4]   \n",
       "1  [Can you do push-ups ?, Of course I can . It's...          [2 1 2 2 1 1]   \n",
       "2  [Can you study with the radio on ?, No , I lis...            [2 1 2 1 1]   \n",
       "3  [Are you all right ?, I will be all right soon...              [2 1 1 1]   \n",
       "4  [Hey John , nice skates . Are they new ?, Yeah...    [2 1 2 1 1 2 1 3 4]   \n",
       "\n",
       "                 emotion  \n",
       "0  [0 0 0 0 0 0 4 4 4 4]  \n",
       "1          [0 0 6 0 0 0]  \n",
       "2            [0 0 0 0 0]  \n",
       "3              [0 0 0 0]  \n",
       "4    [0 0 0 0 0 6 0 6 0]  "
      ]
     },
     "execution_count": 6,
     "metadata": {},
     "output_type": "execute_result"
    }
   ],
   "source": [
    "train_DailyDialog_df.head()"
   ]
  },
  {
   "cell_type": "code",
   "execution_count": 7,
   "id": "fabe4dd6-02c5-483e-acef-27559eeffeb2",
   "metadata": {
    "tags": []
   },
   "outputs": [],
   "source": [
    "def split_dialog_into_turns(df):\n",
    "    new_data = []\n",
    "    dialogue_id = 0  # Start dialogue ID at 0\n",
    "    num_mismatch = 0\n",
    "    for _, row in df.iterrows():\n",
    "        turns = row['dialog']\n",
    "        emotions = row['emotion']\n",
    "        \n",
    "        # Convert emotions to a list if it's not already one\n",
    "        if isinstance(emotions, str):\n",
    "            emotions = [int(e) for e in emotions.strip('[]').split()]\n",
    "        \n",
    "        # Check if the number of turns matches the number of emotions\n",
    "        if len(turns) != len(emotions):\n",
    "            num_mismatch += 1\n",
    "            break\n",
    "            # raise ValueError(f\"Mismatch between number of turns ({len(turns)}) and number of emotions ({len(emotions)}) for dialogue ID {dialogue_id}\")\n",
    "        \n",
    "        # Create new rows for each turn\n",
    "        for turn, emotion in zip(turns, emotions):\n",
    "            new_data.append({\n",
    "                'dialogue_id': dialogue_id,\n",
    "                'turn': turn,\n",
    "                'emotion': emotion\n",
    "            })\n",
    "        \n",
    "        dialogue_id += 1  # Increment dialogue ID for the next set of turns\n",
    "    \n",
    "    # Create a new DataFrame\n",
    "    new_df = pd.DataFrame(new_data)\n",
    "    print(num_mismatch)\n",
    "    return new_df\n"
   ]
  },
  {
   "cell_type": "code",
   "execution_count": 8,
   "id": "f4f31e23-e286-4803-9633-82edf9444892",
   "metadata": {
    "tags": []
   },
   "outputs": [
    {
     "name": "stdout",
     "output_type": "stream",
     "text": [
      "1\n",
      "0\n",
      "1\n"
     ]
    }
   ],
   "source": [
    "# Apply the function to the 'dialog' column\n",
    "train_DailyDialog_df = split_dialog_into_turns(train_DailyDialog_df)\n",
    "test_DailyDialog_df = split_dialog_into_turns(test_DailyDialog_df)\n",
    "val_DailyDialog_df = split_dialog_into_turns(val_DailyDialog_df)"
   ]
  },
  {
   "cell_type": "code",
   "execution_count": 9,
   "id": "600bd31e-efaa-4191-8d87-6f81ab748f9d",
   "metadata": {
    "tags": []
   },
   "outputs": [],
   "source": [
    "def append_alternating_speaker_ids(df, column_name='speaker_id'):\n",
    "    \"\"\"\n",
    "    Appends a column of alternating 0s and 1s to the given DataFrame.\n",
    "    \n",
    "    :param df: The input DataFrame to which the column will be added.\n",
    "    :param column_name: The name of the new column to be added (default is 'speaker_id').\n",
    "    :return: The DataFrame with the new column added.\n",
    "    \"\"\"\n",
    "    length = len(df)  # Get the number of rows in the DataFrame\n",
    "    speaker_ids = [i % 2 for i in range(length)]  # Create a list of alternating 0s and 1s\n",
    "    df[column_name] = speaker_ids  # Add the new column to the DataFrame\n",
    "    return df"
   ]
  },
  {
   "cell_type": "code",
   "execution_count": 10,
   "id": "aecdb8ca-3899-4015-91dc-0c2262143851",
   "metadata": {
    "tags": []
   },
   "outputs": [],
   "source": [
    "train_DailyDialog_df = append_alternating_speaker_ids(train_DailyDialog_df)\n",
    "test_DailyDialog_df = append_alternating_speaker_ids(test_DailyDialog_df)\n",
    "val_DailyDialog_df = append_alternating_speaker_ids(val_DailyDialog_df)"
   ]
  },
  {
   "cell_type": "code",
   "execution_count": 11,
   "id": "20d0010a-9c33-4be5-a1e5-d3bc384358cc",
   "metadata": {
    "tags": []
   },
   "outputs": [
    {
     "data": {
      "text/html": [
       "<div>\n",
       "<style scoped>\n",
       "    .dataframe tbody tr th:only-of-type {\n",
       "        vertical-align: middle;\n",
       "    }\n",
       "\n",
       "    .dataframe tbody tr th {\n",
       "        vertical-align: top;\n",
       "    }\n",
       "\n",
       "    .dataframe thead th {\n",
       "        text-align: right;\n",
       "    }\n",
       "</style>\n",
       "<table border=\"1\" class=\"dataframe\">\n",
       "  <thead>\n",
       "    <tr style=\"text-align: right;\">\n",
       "      <th></th>\n",
       "      <th>dialogue_id</th>\n",
       "      <th>turn</th>\n",
       "      <th>emotion</th>\n",
       "      <th>speaker_id</th>\n",
       "    </tr>\n",
       "  </thead>\n",
       "  <tbody>\n",
       "    <tr>\n",
       "      <th>0</th>\n",
       "      <td>0</td>\n",
       "      <td>Say , Jim , how about going for a few beers af...</td>\n",
       "      <td>0</td>\n",
       "      <td>0</td>\n",
       "    </tr>\n",
       "    <tr>\n",
       "      <th>1</th>\n",
       "      <td>0</td>\n",
       "      <td>You know that is tempting but is really not go...</td>\n",
       "      <td>0</td>\n",
       "      <td>1</td>\n",
       "    </tr>\n",
       "    <tr>\n",
       "      <th>2</th>\n",
       "      <td>0</td>\n",
       "      <td>What do you mean ? It will help us to relax .</td>\n",
       "      <td>0</td>\n",
       "      <td>0</td>\n",
       "    </tr>\n",
       "    <tr>\n",
       "      <th>3</th>\n",
       "      <td>0</td>\n",
       "      <td>Do you really think so ? I don't . It will jus...</td>\n",
       "      <td>0</td>\n",
       "      <td>1</td>\n",
       "    </tr>\n",
       "    <tr>\n",
       "      <th>4</th>\n",
       "      <td>0</td>\n",
       "      <td>I guess you are right.But what shall we do ? I...</td>\n",
       "      <td>0</td>\n",
       "      <td>0</td>\n",
       "    </tr>\n",
       "  </tbody>\n",
       "</table>\n",
       "</div>"
      ],
      "text/plain": [
       "   dialogue_id                                               turn  emotion  \\\n",
       "0            0  Say , Jim , how about going for a few beers af...        0   \n",
       "1            0  You know that is tempting but is really not go...        0   \n",
       "2            0      What do you mean ? It will help us to relax .        0   \n",
       "3            0  Do you really think so ? I don't . It will jus...        0   \n",
       "4            0  I guess you are right.But what shall we do ? I...        0   \n",
       "\n",
       "   speaker_id  \n",
       "0           0  \n",
       "1           1  \n",
       "2           0  \n",
       "3           1  \n",
       "4           0  "
      ]
     },
     "execution_count": 11,
     "metadata": {},
     "output_type": "execute_result"
    }
   ],
   "source": [
    "train_DailyDialog_df.head()"
   ]
  },
  {
   "cell_type": "code",
   "execution_count": 27,
   "id": "18dbc415-c491-4c05-8c6c-5078a1c72d37",
   "metadata": {
    "tags": []
   },
   "outputs": [
    {
     "data": {
      "text/plain": [
       "<module 'embedding_functions' from '/home/manuel.nunez/VANESSA/GroupCohesionPrediction/graphs/embedding_functions.py'>"
      ]
     },
     "execution_count": 27,
     "metadata": {},
     "output_type": "execute_result"
    }
   ],
   "source": [
    "import importlib\n",
    "import embedding_functions\n",
    "importlib.reload(embedding_functions)"
   ]
  },
  {
   "cell_type": "code",
   "execution_count": 28,
   "id": "e213992c-5b3e-4ebc-86fd-b1095898bf34",
   "metadata": {
    "tags": []
   },
   "outputs": [],
   "source": [
    "def create_dialogue_graphs(df):\n",
    "\n",
    "    dialogues = df.groupby('dialogue_id')\n",
    "    dialogue_graphs = []\n",
    "\n",
    "    # Create a placeholder for null embeddings (assuming embeddings are vectors)\n",
    "    null_embedding = [0] * 768  \n",
    "\n",
    "    # To iterate over each group\n",
    "    for _, dialogue in dialogues:\n",
    "\n",
    "        participants = dialogue['speaker_id'].unique()\n",
    "        G = []\n",
    "\n",
    "        for index, row in dialogue.iterrows():\n",
    "        \n",
    "            G_i = {'X': {}, 'Y': 'Uninitialized'}\n",
    "            G_i['Y'] = row['emotion']\n",
    "            speaker = row['speaker_id']\n",
    "\n",
    "            # Initialize speaker nodes for each timestamp\n",
    "            for p in participants:\n",
    "                if p == speaker:\n",
    "                    speaker_embedding = embedding_functions.embedding_func(row['turn'])\n",
    "                    speaker_edges = [f'{node}_{index}' for node in participants if node != speaker]\n",
    "                    G_i['X'][f'{p}_{index}'] = {'embedding': speaker_embedding, 'edges': speaker_edges}\n",
    "                else:    \n",
    "                    G_i['X'][f'{p}_{index}'] = {'embedding': null_embedding, 'edges': []}\n",
    "\n",
    "            G.append(G_i)\n",
    "\n",
    "        dialogue_graphs.append(G)\n",
    "\n",
    "\n",
    "    return dialogue_graphs"
   ]
  },
  {
   "cell_type": "code",
   "execution_count": 29,
   "id": "68eb7a27-e008-4a9d-98ce-571846f22373",
   "metadata": {
    "tags": []
   },
   "outputs": [],
   "source": [
    "DailyDialog_val_dialogue_graphs = create_dialogue_graphs(val_DailyDialog_df)\n",
    "DailyDialog_train_dialogue_graphs = create_dialogue_graphs(train_DailyDialog_df)\n",
    "DailyDialog_test_dialogue_graphs = create_dialogue_graphs(test_DailyDialog_df)"
   ]
  },
  {
   "cell_type": "code",
   "execution_count": 31,
   "id": "5a0623a0-5a2d-423b-8358-65ba689b0fcd",
   "metadata": {},
   "outputs": [],
   "source": [
    "import pickle\n",
    "\n",
    "with open('data/ERC/DailyDialog/val_dialogue_graphs.pkl', 'wb') as f:\n",
    "    pickle.dump(DailyDialog_val_dialogue_graphs, f)\n",
    "\n",
    "with open('data/ERC/DailyDialog/train_dialogue_graphs.pkl', 'wb') as f:\n",
    "    pickle.dump(DailyDialog_train_dialogue_graphs, f)\n",
    "\n",
    "with open('data/ERC/DailyDialog/test_dialogue_graphs.pkl', 'wb') as f:\n",
    "    pickle.dump(DailyDialog_test_dialogue_graphs, f)"
   ]
  },
  {
   "cell_type": "code",
   "execution_count": null,
   "id": "c84571f9-a76f-48d7-8f21-453f784f1fe2",
   "metadata": {},
   "outputs": [],
   "source": []
  }
 ],
 "metadata": {
  "kernelspec": {
   "display_name": "VANESSA_env",
   "language": "python",
   "name": "vanessa_env"
  },
  "language_info": {
   "codemirror_mode": {
    "name": "ipython",
    "version": 3
   },
   "file_extension": ".py",
   "mimetype": "text/x-python",
   "name": "python",
   "nbconvert_exporter": "python",
   "pygments_lexer": "ipython3",
   "version": "3.13.0"
  }
 },
 "nbformat": 4,
 "nbformat_minor": 5
}
