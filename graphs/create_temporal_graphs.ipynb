{
 "cells": [
  {
   "cell_type": "code",
   "execution_count": null,
   "metadata": {},
   "outputs": [],
   "source": []
  },
  {
   "cell_type": "markdown",
   "metadata": {},
   "source": [
    "Thus far, the graphs which have been built to represent conversational dynamics, provide a ststic struture which lacks the ability to capture the sequential flow of conversation, and consequently its importance in identifying conversational cohesion. To address this shortcoming, we will attempt to "
   ]
  }
 ],
 "metadata": {
  "language_info": {
   "name": "python"
  }
 },
 "nbformat": 4,
 "nbformat_minor": 2
}
